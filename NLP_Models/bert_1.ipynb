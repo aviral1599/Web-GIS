{
 "cells": [
  {
   "cell_type": "code",
   "execution_count": 1,
   "metadata": {},
   "outputs": [],
   "source": [
    "# %pip install torch\n",
    "# %pip install wandb\n",
    "# %pip install pandas\n",
    "# %pip install numpy\n",
    "# %pip install sklearn\n",
    "# %pip install seaborn\n",
    "# %pip install transformers\n",
    "# %pip install matplotlib\n",
    "# %pip install pytorch-lightning"
   ]
  },
  {
   "cell_type": "code",
   "execution_count": 2,
   "metadata": {},
   "outputs": [],
   "source": [
    "import re\n",
    "import torch\n",
    "import numpy as np\n",
    "import pandas as pd\n",
    "import seaborn as sns\n",
    "from torch import nn\n",
    "from tensorflow.test import gpu_device_name\n",
    "import pytorch_lightning as pl\n",
    "from pytorch_lightning.loggers import WandbLogger\n",
    "from matplotlib import pyplot as plt\n",
    "import torch.nn.functional as F\n",
    "from torch.utils.data import Dataset, DataLoader\n",
    "from sklearn.preprocessing import OneHotEncoder\n",
    "from sklearn.model_selection import train_test_split\n",
    "from transformers import BertTokenizer, BertForSequenceClassification"
   ]
  },
  {
   "cell_type": "code",
   "execution_count": 3,
   "metadata": {},
   "outputs": [
    {
     "name": "stdout",
     "output_type": "stream",
     "text": [
      "No GPU found\n"
     ]
    }
   ],
   "source": [
    "device_name = gpu_device_name()\n",
    "if device_name:\n",
    "    print('Found GPU at: {}'.format(device_name))\n",
    "else:\n",
    "    print(\"No GPU found\")"
   ]
  },
  {
   "cell_type": "code",
   "execution_count": 4,
   "metadata": {},
   "outputs": [
    {
     "name": "stdout",
     "output_type": "stream",
     "text": [
      "                                                    Title  Label\n",
      "count                                               16864  16864\n",
      "unique                                              16330      2\n",
      "top      Use of Aadhaar biometric data for investigati...  Crime\n",
      "freq                                                    4   8641\n",
      "All entries unique: False\n",
      "Null cells: 0\n"
     ]
    }
   ],
   "source": [
    "train_df = pd.read_excel(\"../Scrapper_New/Data_Files/Final/CrimevsNonCrime.xlsx\")\n",
    "print(train_df.describe())\n",
    "print(f\"All entries unique: {train_df['Title'].nunique()==train_df.shape[0]}\")\n",
    "print(f\"Null cells: {train_df.isnull().sum().sum()}\")"
   ]
  },
  {
   "cell_type": "code",
   "execution_count": 5,
   "metadata": {},
   "outputs": [
    {
     "name": "stdout",
     "output_type": "stream",
     "text": [
      "All entries unique: True\n",
      "Null cells: 0\n"
     ]
    }
   ],
   "source": [
    "train_df.drop_duplicates(subset=['Title'], inplace=True, ignore_index=True, keep='first')\n",
    "train_df.dropna()\n",
    "\n",
    "print(f\"All entries unique: {train_df['Title'].nunique()==train_df.shape[0]}\")\n",
    "print(f\"Null cells: {train_df.isnull().sum().sum()}\")"
   ]
  },
  {
   "cell_type": "code",
   "execution_count": 6,
   "metadata": {},
   "outputs": [
    {
     "name": "stdout",
     "output_type": "stream",
     "text": [
      "Label IDs\n",
      "{0: 'Crime', 1: 'Non-Crime'}\n"
     ]
    }
   ],
   "source": [
    "filtered_df = pd.DataFrame(columns=['text', 'label', 'word_count', 'label_name'])\n",
    "\n",
    "filtered_df['label_name'] = pd.Series(pd.Categorical(train_df['Label']))\n",
    "filtered_df['label'] = (pd.Categorical(filtered_df['label_name']).codes).astype(int)\n",
    "label_ids = dict(enumerate(filtered_df['label_name'].cat.categories))\n",
    "\n",
    "print(\"Label IDs\")\n",
    "print(label_ids)"
   ]
  },
  {
   "cell_type": "code",
   "execution_count": 7,
   "metadata": {},
   "outputs": [
    {
     "data": {
      "image/png": "[encoded data removed]",
      "text/plain": [
       "<Figure size 576x432 with 1 Axes>"
      ]
     },
     "metadata": {
      "needs_background": "light"
     },
     "output_type": "display_data"
    }
   ],
   "source": [
    "label_counts = train_df['Label'].value_counts()\n",
    "\n",
    "plt.figure(figsize=(8, 6))\n",
    "plt.bar(label_counts.index, label_counts, color=['red', 'green'])\n",
    "plt.xlabel('Count')\n",
    "plt.ylabel('Label')\n",
    "plt.title('Data Balance')\n",
    "plt.show()"
   ]
  },
  {
   "cell_type": "code",
   "execution_count": 8,
   "metadata": {},
   "outputs": [],
   "source": [
    "# oh_encoder = OneHotEncoder()\n",
    "# enc_data=pd.DataFrame(oh_encoder.fit_transform(filtered_df[['label']]).toarray())\n",
    "# print(enc_data.head())"
   ]
  },
  {
   "cell_type": "code",
   "execution_count": 9,
   "metadata": {},
   "outputs": [],
   "source": [
    "def preprocess_x(data, get_word_count = False, single_entry=False):\n",
    "    text_list = []\n",
    "    word_count = []\n",
    "\n",
    "    if not single_entry:\n",
    "        for entry in data:\n",
    "            new_text = re.sub(\"[^a-zA-Z]\", \" \", entry)\n",
    "            word_count.append(len(new_text.split()))\n",
    "            text_list.append(new_text)\n",
    "    else:\n",
    "        new_text = re.sub(\"[^a-zA-Z ]\", \" \", data)\n",
    "        word_count.append(len(new_text.split()))\n",
    "        text_list.append(new_text)\n",
    "    \n",
    "    if get_word_count:\n",
    "        return text_list, word_count\n",
    "    else:\n",
    "        return text_list"
   ]
  },
  {
   "cell_type": "code",
   "execution_count": 10,
   "metadata": {},
   "outputs": [
    {
     "name": "stdout",
     "output_type": "stream",
     "text": [
      "                                                text  label  word_count  \\\n",
      "0  Minor raped by cop in Jharkhand s Hazaribagh  ...      0          10   \n",
      "1   Saw my brother getting killed   Bhilwara vict...      0          14   \n",
      "2  Delhi Police arrests burglar  recovers huge qu...      0          12   \n",
      "3  Pregnant woman raped by hospital staff in UP s...      0          12   \n",
      "4  Muzaffarpur     year old girl thrashed  gang r...      0           9   \n",
      "\n",
      "  label_name  \n",
      "0      Crime  \n",
      "1      Crime  \n",
      "2      Crime  \n",
      "3      Crime  \n",
      "4      Crime  \n"
     ]
    }
   ],
   "source": [
    "filtered_df['text'], filtered_df['word_count'] = preprocess_x(train_df['Title'], get_word_count=True)\n",
    "\n",
    "print(filtered_df.head())"
   ]
  },
  {
   "cell_type": "code",
   "execution_count": 11,
   "metadata": {},
   "outputs": [
    {
     "name": "stdout",
     "output_type": "stream",
     "text": [
      "Word Count Stats:\n",
      "count    16330.000000\n",
      "mean        12.005940\n",
      "std          3.515453\n",
      "min          1.000000\n",
      "25%         10.000000\n",
      "50%         12.000000\n",
      "75%         14.000000\n",
      "max         31.000000\n",
      "Name: word_count, dtype: float64\n"
     ]
    },
    {
     "data": {
      "image/png": "[encoded data removed]",
      "text/plain": [
       "<Figure size 576x432 with 1 Axes>"
      ]
     },
     "metadata": {
      "needs_background": "light"
     },
     "output_type": "display_data"
    }
   ],
   "source": [
    "plt.figure(figsize=(8, 6))\n",
    "print('Word Count Stats:')\n",
    "print(filtered_df[\"word_count\"].describe())\n",
    "plt.hist(filtered_df['word_count'],color='red')\n",
    "plt.title('Word count')\n",
    "plt.xlabel('Word_count')\n",
    "plt.ylabel('Entry_Count')\n",
    "plt.show()"
   ]
  },
  {
   "cell_type": "code",
   "execution_count": 12,
   "metadata": {},
   "outputs": [],
   "source": [
    "tokenizer = BertTokenizer.from_pretrained(\"textattack/bert-base-uncased-yelp-polarity\")\n",
    "# tokenizer = BertTokenizer.from_pretrained('bert-base-uncased', do_lower_case=True)\n",
    "# encodings = tokenizer.batch_encode_plus(text_list)\n",
    "\n",
    "# print('tokenizer outputs: ', encodings.keys())\n",
    "\n",
    "# input_ids = encodings['input_ids']\n",
    "# token_type_ids = encodings['token_type_ids']\n",
    "# attention_mask = encodings['attention_mask']\n",
    "\n",
    "# input_id_train_val,input_id_test,token_type_id_train_val,token_type_id_test,attention_mask_train_val,\\\n",
    "#     attention_mask_test,y_train_val,y_test = train_test_split(input_ids, token_type_ids, attention_mask,\\\n",
    "#         filtered_df['label'], test_size=0.1,shuffle=True)\n",
    "\n",
    "# input_id_train,input_id_val,token_type_id_train,token_type_id_val,attention_mask_train,attention_mask_val,\\\n",
    "#     y_train,y_val = train_test_split(input_id_train_val, token_type_id_train_val, attention_mask_train_val,\\\n",
    "#         y_train_val, test_size=0.2,shuffle=True)"
   ]
  },
  {
   "cell_type": "code",
   "execution_count": 13,
   "metadata": {},
   "outputs": [],
   "source": [
    "class QTagDataset(Dataset):\n",
    "  def __init__(self,quest,tags, tokenizer, max_len, num_workers = 8):\n",
    "    self.tokenizer = tokenizer\n",
    "    self.text = quest\n",
    "    self.labels = tags\n",
    "    self.max_len = max_len\n",
    "      \n",
    "  def __len__(self):\n",
    "    return len(self.text)\n",
    "  \n",
    "  def __getitem__(self, item_idx):\n",
    "    text = self.text[item_idx]\n",
    "    inputs = self.tokenizer.encode_plus(\n",
    "      text,\n",
    "      None,\n",
    "      add_special_tokens=True,\n",
    "      max_length= self.max_len,\n",
    "      padding = 'max_length',\n",
    "      return_token_type_ids= False,\n",
    "      return_attention_mask= True,\n",
    "      truncation=True,\n",
    "      return_tensors = 'pt'\n",
    "      )\n",
    "\n",
    "    input_ids = inputs['input_ids'].flatten()\n",
    "    attn_mask = inputs['attention_mask'].flatten()\n",
    "              \n",
    "    return {\n",
    "      'input_ids': input_ids ,\n",
    "      'attention_mask': attn_mask,\n",
    "      'label':torch.tensor(self.labels[item_idx],dtype= torch.float)\n",
    "    }\n",
    "\n",
    "class QTagDataModule (pl.LightningDataModule):\n",
    "  def __init__(self,x_tr,y_tr,x_val,y_val,x_test,y_test,tokenizer,batch_size=16,max_token_len=200):\n",
    "    super().__init__()\n",
    "    self.tr_text = x_tr\n",
    "    self.tr_label = y_tr\n",
    "    self.val_text = x_val\n",
    "    self.val_label = y_val\n",
    "    self.test_text = x_test\n",
    "    self.test_label = y_test\n",
    "    self.tokenizer = tokenizer\n",
    "    self.batch_size = batch_size\n",
    "    self.max_token_len = max_token_len\n",
    "\n",
    "  def setup(self, stage='None'):\n",
    "    self.train_dataset = QTagDataset(quest=self.tr_text,  tags=self.tr_label,tokenizer=self.tokenizer,max_len= self.max_token_len)\n",
    "    self.val_dataset= QTagDataset(quest=self.val_text, tags=self.val_label,tokenizer=self.tokenizer,max_len = self.max_token_len)\n",
    "    self.test_dataset =QTagDataset(quest=self.test_text, tags=self.test_label,tokenizer=self.tokenizer,max_len = self.max_token_len)\n",
    "        \n",
    "  def train_dataloader(self):\n",
    "    return DataLoader(self.train_dataset,batch_size= self.batch_size, shuffle = True , num_workers=4)\n",
    "\n",
    "  def val_dataloader(self):\n",
    "    return DataLoader (self.val_dataset,batch_size= self.batch_size, num_workers=4)\n",
    "\n",
    "  def test_dataloader(self):\n",
    "    return DataLoader (self.test_dataset,batch_size= self.batch_size, shuffle = True , num_workers=4)\n",
    "\n",
    "class QTagClassifier(pl.LightningModule):\n",
    "  def __init__(self,n_classes=10,steps_per_epoch=None,n_epochs=3, lr=2e-5):\n",
    "    super().__init__()\n",
    "\n",
    "    self.bert=BertForSequenceClassification.from_pretrained(\n",
    "      'textattack/bert-base-uncased-yelp-polarity')\n",
    "      # return_dict=True, \n",
    "      # num_labels=2)\n",
    "    self.classifier=nn.Linear(self.bert.config.hidden_size,n_classes) \n",
    "    self.steps_per_epoch = steps_per_epoch\n",
    "    self.n_epochs = n_epochs\n",
    "    self.lr = lr\n",
    "    self.criterion = nn.BCEWithLogitsLoss()\n",
    "  def forward(self,input_ids, attn_mask):\n",
    "    output = self.bert(input_ids=input_ids,attention_mask=attn_mask)\n",
    "    output = self.classifier(output.pooler_output)\n",
    "    return output\n",
    "  def training_step(self, batch, batch_idx):\n",
    "    x, y = batch\n",
    "    y_hat = self.forward(x)\n",
    "    loss = F.cross_entropy(y_hat, y)\n",
    "    return loss\n",
    "  def validation_step(self, batch, batch_idx):\n",
    "    x, y = batch\n",
    "    y_hat = self.forward(x)\n",
    "    loss = F.cross_entropy(y_hat, y)\n",
    "    return loss\n",
    "  def configure_optimizers(self):\n",
    "    return torch.optim.Adam(self.parameters(), lr=self.lr, weight_decay=0.001)"
   ]
  },
  {
   "cell_type": "code",
   "execution_count": 14,
   "metadata": {},
   "outputs": [],
   "source": [
    "x_train_val,x_test,y_train_val,y_test = train_test_split(filtered_df['text'], filtered_df['label'], test_size=0.1,shuffle=True)\n",
    "\n",
    "x_train,x_val,y_train,y_val = train_test_split(x_train_val, y_train_val, test_size=0.2, shuffle=True)"
   ]
  },
  {
   "cell_type": "code",
   "execution_count": 15,
   "metadata": {},
   "outputs": [],
   "source": [
    "QTdata_module = QTagDataModule(x_train,y_train,x_val,y_val,x_test,y_test,tokenizer)"
   ]
  },
  {
   "cell_type": "code",
   "execution_count": 16,
   "metadata": {},
   "outputs": [],
   "source": [
    "checkpoint_callback = pl.callbacks.ModelCheckpoint(\n",
    "    monitor='val_loss',# monitored quantity\n",
    "    filename='QTag-{epoch:02d}-{val_loss:.2f}',\n",
    "    save_top_k=3, #  save the top 3 models\n",
    "    mode='min', # mode of the monitored quantity  for optimization\n",
    "    verbose=True\n",
    ")"
   ]
  },
  {
   "cell_type": "code",
   "execution_count": 17,
   "metadata": {},
   "outputs": [],
   "source": [
    "model=QTagClassifier()"
   ]
  },
  {
   "cell_type": "code",
   "execution_count": 18,
   "metadata": {},
   "outputs": [
    {
     "name": "stderr",
     "output_type": "stream",
     "text": [
      "Failed to detect the name of this notebook, you can set it manually with the WANDB_NOTEBOOK_NAME environment variable to enable code saving.\n",
      "\u001b[34m\u001b[1mwandb\u001b[0m: Currently logged in as: \u001b[33mshashwatg\u001b[0m (\u001b[33mcapstone37\u001b[0m). Use \u001b[1m`wandb login --relogin`\u001b[0m to force relogin\n"
     ]
    },
    {
     "data": {
      "text/html": [
       "wandb version 0.13.2 is available!  To upgrade, please run:\n",
       " $ pip install wandb --upgrade"
      ],
      "text/plain": [
       "<IPython.core.display.HTML object>"
      ]
     },
     "metadata": {},
     "output_type": "display_data"
    },
    {
     "data": {
      "text/html": [
       "Tracking run with wandb version 0.13.1"
      ],
      "text/plain": [
       "<IPython.core.display.HTML object>"
      ]
     },
     "metadata": {},
     "output_type": "display_data"
    },
    {
     "data": {
      "text/html": [
       "Run data is saved locally in <code>e:\\Sem 6\\Capstone\\CAPSTONE\\NLP_Models\\wandb\\run-20220830_112453-1d6y9wls</code>"
      ],
      "text/plain": [
       "<IPython.core.display.HTML object>"
      ]
     },
     "metadata": {},
     "output_type": "display_data"
    },
    {
     "data": {
      "text/html": [
       "Syncing run <strong><a href=\"https://wandb.ai/capstone37/CAPSTONE/runs/1d6y9wls\" target=\"_blank\">happy-dawn-3</a></strong> to <a href=\"https://wandb.ai/capstone37/CAPSTONE\" target=\"_blank\">Weights & Biases</a> (<a href=\"https://wandb.me/run\" target=\"_blank\">docs</a>)<br/>"
      ],
      "text/plain": [
       "<IPython.core.display.HTML object>"
      ]
     },
     "metadata": {},
     "output_type": "display_data"
    },
    {
     "name": "stderr",
     "output_type": "stream",
     "text": [
      "GPU available: False, used: False\n",
      "TPU available: False, using: 0 TPU cores\n",
      "IPU available: False, using: 0 IPUs\n",
      "HPU available: False, using: 0 HPUs\n"
     ]
    }
   ],
   "source": [
    "N_EPOCHS = 12\n",
    "BATCH_SIZE = 32\n",
    "MAX_LEN = 300\n",
    "LR = 2e-05\n",
    "\n",
    "wandb_logger = WandbLogger()\n",
    "trainer = pl.Trainer(max_epochs = N_EPOCHS, callbacks=[checkpoint_callback], logger=wandb_logger)\n"
   ]
  },
  {
   "cell_type": "code",
   "execution_count": 19,
   "metadata": {},
   "outputs": [
    {
     "data": {
      "text/plain": [
       "ERROR: Could not find `tensorboard`. Please ensure that your PATH\n",
       "contains an executable `tensorboard` program, or explicitly specify\n",
       "the path to a TensorBoard binary by setting the `TENSORBOARD_BINARY`\n",
       "environment variable."
      ]
     },
     "metadata": {},
     "output_type": "display_data"
    }
   ],
   "source": [
    "%load_ext tensorboard\n",
    "%tensorboard --logdir lightning_logs/"
   ]
  },
  {
   "cell_type": "code",
   "execution_count": 20,
   "metadata": {},
   "outputs": [
    {
     "name": "stderr",
     "output_type": "stream",
     "text": [
      "\n",
      "  | Name       | Type                          | Params\n",
      "-------------------------------------------------------------\n",
      "0 | bert       | BertForSequenceClassification | 109 M \n",
      "1 | classifier | Linear                        | 7.7 K \n",
      "2 | criterion  | BCEWithLogitsLoss             | 0     \n",
      "-------------------------------------------------------------\n",
      "109 M     Trainable params\n",
      "0         Non-trainable params\n",
      "109 M     Total params\n",
      "437.966   Total estimated model params size (MB)\n"
     ]
    },
    {
     "name": "stdout",
     "output_type": "stream",
     "text": [
      "Created 3 datasets\n",
      "Sanity Checking: 0it [00:00, ?it/s]"
     ]
    }
   ],
   "source": [
    "trainer.fit(model, QTdata_module)"
   ]
  },
  {
   "cell_type": "code",
   "execution_count": null,
   "metadata": {},
   "outputs": [],
   "source": [
    "trainer.test(model,datamodule=QTdata_module)"
   ]
  }
 ],
 "metadata": {
  "kernelspec": {
   "display_name": "Python 3.9.13 64-bit (windows store)",
   "language": "python",
   "name": "python3"
  },
  "language_info": {
   "codemirror_mode": {
    "name": "ipython",
    "version": 3
   },
   "file_extension": ".py",
   "mimetype": "text/x-python",
   "name": "python",
   "nbconvert_exporter": "python",
   "pygments_lexer": "ipython3",
   "version": "3.9.13"
  },
  "vscode": {
   "interpreter": {
    "hash": "5b6d47590f999a800716eb982ff21d5a6775fcf2e01ec0861991d54625e34c1b"
   }
  }
 },
 "nbformat": 4,
 "nbformat_minor": 2
}
