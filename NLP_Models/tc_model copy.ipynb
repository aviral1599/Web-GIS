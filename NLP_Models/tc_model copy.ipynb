{
 "cells": [
  {
   "cell_type": "code",
   "execution_count": 1,
   "id": "309df04a",
   "metadata": {},
   "outputs": [],
   "source": [
    "import nltk\n",
    "import re, string\n",
    "import numpy as np\n",
    "import pandas as pd\n",
    "import seaborn as sns\n",
    "import matplotlib.pyplot as plt\n",
    "\n",
    "from sklearn.model_selection import train_test_split\n",
    "from sklearn.feature_extraction.text import TfidfVectorizer\n",
    "from sklearn.feature_extraction.text import CountVectorizer\n",
    "from sklearn.linear_model import LogisticRegression\n",
    "from sklearn.metrics import classification_report, f1_score, accuracy_score, confusion_matrix\n",
    "from sklearn.metrics import roc_curve, auc, roc_auc_score\n",
    "from sklearn.naive_bayes import MultinomialNB\n",
    "\n",
    "import gensim\n",
    "from gensim.models import Word2Vec"
   ]
  },
  {
   "cell_type": "code",
   "execution_count": 3,
   "id": "fdf5a825",
   "metadata": {},
   "outputs": [
    {
     "name": "stderr",
     "output_type": "stream",
     "text": [
      "[nltk_data] Downloading package stopwords to\n",
      "[nltk_data]     C:\\Users\\SHASHWAT\\AppData\\Roaming\\nltk_data...\n",
      "[nltk_data]   Package stopwords is already up-to-date!\n",
      "[nltk_data] Downloading package punkt to\n",
      "[nltk_data]     C:\\Users\\SHASHWAT\\AppData\\Roaming\\nltk_data...\n",
      "[nltk_data]   Package punkt is already up-to-date!\n",
      "[nltk_data] Downloading package averaged_perceptron_tagger to\n",
      "[nltk_data]     C:\\Users\\SHASHWAT\\AppData\\Roaming\\nltk_data...\n",
      "[nltk_data]   Package averaged_perceptron_tagger is already up-to-\n",
      "[nltk_data]       date!\n",
      "[nltk_data] Downloading package wordnet to\n",
      "[nltk_data]     C:\\Users\\SHASHWAT\\AppData\\Roaming\\nltk_data...\n",
      "[nltk_data]   Package wordnet is already up-to-date!\n",
      "[nltk_data] Downloading package omw-1.4 to\n",
      "[nltk_data]     C:\\Users\\SHASHWAT\\AppData\\Roaming\\nltk_data...\n",
      "[nltk_data]   Package omw-1.4 is already up-to-date!\n"
     ]
    },
    {
     "data": {
      "text/plain": [
       "True"
      ]
     },
     "execution_count": 3,
     "metadata": {},
     "output_type": "execute_result"
    }
   ],
   "source": [
    "nltk.download('stopwords')\n",
    "nltk.download('punkt')\n",
    "nltk.download('averaged_perceptron_tagger')\n",
    "nltk.download('wordnet')\n",
    "nltk.download('omw-1.4')"
   ]
  },
  {
   "cell_type": "code",
   "execution_count": 4,
   "id": "28055880",
   "metadata": {},
   "outputs": [],
   "source": [
    "from nltk.corpus import stopwords\n",
    "from nltk.corpus import wordnet\n",
    "from nltk.tokenize import word_tokenize\n",
    "from nltk.stem import WordNetLemmatizer"
   ]
  },
  {
   "cell_type": "code",
   "execution_count": 5,
   "id": "8e8ad300",
   "metadata": {},
   "outputs": [
    {
     "name": "stdout",
     "output_type": "stream",
     "text": [
      "                                               Title  Label\n",
      "0  Minor raped by cop in Jharkhand's Hazaribagh, ...  Crime\n",
      "1  'Saw my brother getting killed': Bhilwara vict...  Crime\n",
      "2  Delhi Police arrests burglar, recovers huge qu...  Crime\n",
      "3  Pregnant woman raped by hospital staff in UP’s...  Crime\n",
      "4  Muzaffarpur: 15-year-old girl thrashed, gang-r...  Crime\n",
      "[0 0 0 ... 1 1 1]\n"
     ]
    }
   ],
   "source": [
    "df = pd.read_excel(\"../Scrapper_New/Data_Files/Final/CrimevsNonCrime.xlsx\")\n",
    "df_Y = ((pd.Categorical(df.Label).codes).astype(int))\n",
    "print(df.head(5))\n",
    "print(df_Y)"
   ]
  },
  {
   "cell_type": "code",
   "execution_count": 6,
   "id": "879ea25f",
   "metadata": {},
   "outputs": [
    {
     "name": "stderr",
     "output_type": "stream",
     "text": [
      "c:\\Users\\SHASHWAT\\AppData\\Local\\Programs\\Python\\Python39\\lib\\site-packages\\seaborn\\_decorators.py:36: FutureWarning: Pass the following variables as keyword args: x, y. From version 0.12, the only valid positional argument will be `data`, and passing other arguments without an explicit keyword will result in an error or misinterpretation.\n",
      "  warnings.warn(\n"
     ]
    },
    {
     "data": {
      "image/png": "[encoded data removed]",
      "text/plain": [
       "<Figure size 432x288 with 1 Axes>"
      ]
     },
     "metadata": {
      "needs_background": "light"
     },
     "output_type": "display_data"
    }
   ],
   "source": [
    "x=df['Label'].value_counts()\n",
    "sns.barplot(x.index, x);"
   ]
  },
  {
   "cell_type": "code",
   "execution_count": 7,
   "id": "0a342118",
   "metadata": {},
   "outputs": [
    {
     "name": "stdout",
     "output_type": "stream",
     "text": [
      "12.699987838988203\n",
      "11.139798634417312\n"
     ]
    }
   ],
   "source": [
    "df['word_count'] = df['Title'].apply(lambda x: len(str(x).split()))\n",
    "print(df[df_Y==1]['word_count'].mean())\n",
    "print(df[df_Y==0]['word_count'].mean())"
   ]
  },
  {
   "cell_type": "code",
   "execution_count": 8,
   "id": "0f93370e",
   "metadata": {},
   "outputs": [
    {
     "data": {
      "image/png": "[encoded data removed]",
      "text/plain": [
       "<Figure size 720x288 with 2 Axes>"
      ]
     },
     "metadata": {
      "needs_background": "light"
     },
     "output_type": "display_data"
    }
   ],
   "source": [
    "fig,(ax1,ax2)=plt.subplots(1,2,figsize=(10,4))\n",
    "train_words=df[df_Y==1]['word_count']\n",
    "ax1.hist(train_words,color='red')\n",
    "ax1.set_title('Crime tweets')\n",
    "train_words=df[df_Y==0]['word_count']\n",
    "ax2.hist(train_words,color='green')\n",
    "ax2.set_title('Non-crime tweets')\n",
    "fig.suptitle('Words per tweet')\n",
    "plt.show()"
   ]
  },
  {
   "cell_type": "code",
   "execution_count": 9,
   "id": "b5467fd7",
   "metadata": {},
   "outputs": [
    {
     "name": "stdout",
     "output_type": "stream",
     "text": [
      "78.22157363492643\n",
      "69.68128688809166\n"
     ]
    }
   ],
   "source": [
    "df['char_count'] = df['Title'].apply(lambda x: len(str(x)))\n",
    "print(df[df_Y==1]['char_count'].mean())\n",
    "print(df[df_Y==0]['char_count'].mean())"
   ]
  },
  {
   "cell_type": "code",
   "execution_count": 10,
   "id": "5a57a773",
   "metadata": {},
   "outputs": [],
   "source": [
    "def preprocess(text):\n",
    "    text = text.lower() \n",
    "    text=text.strip()  \n",
    "    text=re.compile('<.*?>').sub('', text) \n",
    "    text = re.compile('[%s]' % re.escape(string.punctuation)).sub(' ', text)  \n",
    "    text = re.sub('\\s+', ' ', text)  \n",
    "    text = re.sub(r'\\[[0-9]*\\]',' ',text) \n",
    "    text=re.sub(r'[^\\w\\s]', '', str(text).lower().strip())\n",
    "    text = re.sub(r'\\d',' ',text) \n",
    "    text = re.sub(r'\\s+',' ',text) \n",
    "    return text    "
   ]
  },
  {
   "cell_type": "code",
   "execution_count": 11,
   "id": "226a54d0",
   "metadata": {},
   "outputs": [],
   "source": [
    "def stopword(string):\n",
    "    a= [i for i in string.split() if i not in stopwords.words('english')]\n",
    "    return ' '.join(a)"
   ]
  },
  {
   "cell_type": "code",
   "execution_count": 12,
   "id": "91e939f1",
   "metadata": {},
   "outputs": [],
   "source": [
    "wl = WordNetLemmatizer()\n",
    "def get_wordnet_pos(tag):\n",
    "    if tag.startswith('J'):\n",
    "        return wordnet.ADJ\n",
    "    elif tag.startswith('V'):\n",
    "        return wordnet.VERB\n",
    "    elif tag.startswith('N'):\n",
    "        return wordnet.NOUN\n",
    "    elif tag.startswith('R'):\n",
    "        return wordnet.ADV\n",
    "    else:\n",
    "        return wordnet.NOUN\n",
    "def lemmatizer(string):\n",
    "    word_pos_tags = nltk.pos_tag(word_tokenize(string))\n",
    "    a=[wl.lemmatize(tag[0], get_wordnet_pos(tag[1])) for idx, tag in enumerate(word_pos_tags)]\n",
    "    return \" \".join(a)"
   ]
  },
  {
   "cell_type": "code",
   "execution_count": 13,
   "id": "701c6bcb",
   "metadata": {},
   "outputs": [
    {
     "data": {
      "text/html": [
       "<div>\n",
       "<style scoped>\n",
       "    .dataframe tbody tr th:only-of-type {\n",
       "        vertical-align: middle;\n",
       "    }\n",
       "\n",
       "    .dataframe tbody tr th {\n",
       "        vertical-align: top;\n",
       "    }\n",
       "\n",
       "    .dataframe thead th {\n",
       "        text-align: right;\n",
       "    }\n",
       "</style>\n",
       "<table border=\"1\" class=\"dataframe\">\n",
       "  <thead>\n",
       "    <tr style=\"text-align: right;\">\n",
       "      <th></th>\n",
       "      <th>Title</th>\n",
       "      <th>Label</th>\n",
       "      <th>word_count</th>\n",
       "      <th>char_count</th>\n",
       "      <th>clean_text</th>\n",
       "    </tr>\n",
       "  </thead>\n",
       "  <tbody>\n",
       "    <tr>\n",
       "      <th>0</th>\n",
       "      <td>Minor raped by cop in Jharkhand's Hazaribagh, ...</td>\n",
       "      <td>Crime</td>\n",
       "      <td>9</td>\n",
       "      <td>64</td>\n",
       "      <td>minor rap cop jharkhand hazaribagh accuse abscond</td>\n",
       "    </tr>\n",
       "    <tr>\n",
       "      <th>1</th>\n",
       "      <td>'Saw my brother getting killed': Bhilwara vict...</td>\n",
       "      <td>Crime</td>\n",
       "      <td>14</td>\n",
       "      <td>94</td>\n",
       "      <td>saw brother get kill bhilwara victim brother r...</td>\n",
       "    </tr>\n",
       "    <tr>\n",
       "      <th>2</th>\n",
       "      <td>Delhi Police arrests burglar, recovers huge qu...</td>\n",
       "      <td>Crime</td>\n",
       "      <td>12</td>\n",
       "      <td>87</td>\n",
       "      <td>delhi police arrest burglar recovers huge quan...</td>\n",
       "    </tr>\n",
       "    <tr>\n",
       "      <th>3</th>\n",
       "      <td>Pregnant woman raped by hospital staff in UP’s...</td>\n",
       "      <td>Crime</td>\n",
       "      <td>11</td>\n",
       "      <td>75</td>\n",
       "      <td>pregnant woman rap hospital staff ups mirzapur...</td>\n",
       "    </tr>\n",
       "    <tr>\n",
       "      <th>4</th>\n",
       "      <td>Muzaffarpur: 15-year-old girl thrashed, gang-r...</td>\n",
       "      <td>Crime</td>\n",
       "      <td>7</td>\n",
       "      <td>71</td>\n",
       "      <td>muzaffarpur year old girl thrash gang rap accu...</td>\n",
       "    </tr>\n",
       "  </tbody>\n",
       "</table>\n",
       "</div>"
      ],
      "text/plain": [
       "                                               Title  Label  word_count  \\\n",
       "0  Minor raped by cop in Jharkhand's Hazaribagh, ...  Crime           9   \n",
       "1  'Saw my brother getting killed': Bhilwara vict...  Crime          14   \n",
       "2  Delhi Police arrests burglar, recovers huge qu...  Crime          12   \n",
       "3  Pregnant woman raped by hospital staff in UP’s...  Crime          11   \n",
       "4  Muzaffarpur: 15-year-old girl thrashed, gang-r...  Crime           7   \n",
       "\n",
       "   char_count                                         clean_text  \n",
       "0          64  minor rap cop jharkhand hazaribagh accuse abscond  \n",
       "1          94  saw brother get kill bhilwara victim brother r...  \n",
       "2          87  delhi police arrest burglar recovers huge quan...  \n",
       "3          75  pregnant woman rap hospital staff ups mirzapur...  \n",
       "4          71  muzaffarpur year old girl thrash gang rap accu...  "
      ]
     },
     "execution_count": 13,
     "metadata": {},
     "output_type": "execute_result"
    }
   ],
   "source": [
    "def finalpreprocess(string):\n",
    "    return lemmatizer(stopword(preprocess(string)))\n",
    "\n",
    "df['clean_text'] = df['Title'].apply(lambda x: finalpreprocess(x))\n",
    "df.head()"
   ]
  },
  {
   "cell_type": "code",
   "execution_count": 14,
   "id": "5583882b",
   "metadata": {},
   "outputs": [],
   "source": [
    "df['clean_text_tok']=[nltk.word_tokenize(i) for i in df['clean_text']]\n",
    "model = Word2Vec(df['clean_text_tok'],min_count=1)\n",
    "w2v = dict(zip(model.wv.index_to_key, model.wv.vectors))\n",
    "\n",
    "class MeanEmbeddingVectorizer(object):\n",
    "    def __init__(self, word2vec):\n",
    "        self.word2vec = word2vec\n",
    "        # if a text is empty we should return a vector of zeros\n",
    "        # with the same dimensionality as all the other vectors\n",
    "        self.dim = len(next(iter(word2vec.values())))\n",
    "\n",
    "    def fit(self, X, y):\n",
    "        return self\n",
    "\n",
    "    def transform(self, X):\n",
    "        return np.array([\n",
    "            np.mean([self.word2vec[w] for w in words if w in self.word2vec]\n",
    "                    or [np.zeros(self.dim)], axis=0)\n",
    "            for words in X\n",
    "        ])"
   ]
  },
  {
   "cell_type": "code",
   "execution_count": 15,
   "id": "359a6000",
   "metadata": {},
   "outputs": [],
   "source": [
    "X_train, X_test, Y_train, Y_test = train_test_split(df['clean_text'], df_Y, test_size=0.2, random_state=42)"
   ]
  },
  {
   "cell_type": "code",
   "execution_count": 16,
   "id": "c376bead",
   "metadata": {},
   "outputs": [],
   "source": [
    "X_train_tok= [nltk.word_tokenize(i) for i in X_train]  \n",
    "X_test_tok= [nltk.word_tokenize(i) for i in X_test]"
   ]
  },
  {
   "cell_type": "code",
   "execution_count": 17,
   "id": "a125dd33",
   "metadata": {},
   "outputs": [],
   "source": [
    "#Tf-Idf\n",
    "tfidf_vectorizer = TfidfVectorizer(use_idf=True)\n",
    "X_train_vectors_tfidf = tfidf_vectorizer.fit_transform(X_train) \n",
    "X_test_vectors_tfidf = tfidf_vectorizer.transform(X_test)#building Word2Vec model\n",
    "\n",
    "modelw = MeanEmbeddingVectorizer(w2v)# converting text to numerical data using Word2Vec\n",
    "X_train_vectors_w2v = modelw.transform(X_train_tok)\n",
    "X_val_vectors_w2v = modelw.transform(X_test_tok)"
   ]
  },
  {
   "cell_type": "code",
   "execution_count": 44,
   "id": "469b2762",
   "metadata": {},
   "outputs": [
    {
     "name": "stdout",
     "output_type": "stream",
     "text": [
      "0.8787429587903943\n",
      "              precision    recall  f1-score   support\n",
      "\n",
      "           0       0.90      0.86      0.88      1748\n",
      "           1       0.86      0.90      0.88      1625\n",
      "\n",
      "    accuracy                           0.88      3373\n",
      "   macro avg       0.88      0.88      0.88      3373\n",
      "weighted avg       0.88      0.88      0.88      3373\n",
      "\n",
      "Confusion Matrix: [[1502  246]\n",
      " [ 163 1462]]\n",
      "AUC: 0.9513362084140117\n"
     ]
    }
   ],
   "source": [
    "lr_tfidf=LogisticRegression(solver = 'liblinear', C=10, penalty = 'l2')\n",
    "lr_tfidf.fit(X_train_vectors_tfidf, Y_train)  #model\n",
    "\n",
    "#Predict y value for test dataset\n",
    "y_predict = lr_tfidf.predict(X_test_vectors_tfidf)\n",
    "y_prob = lr_tfidf.predict_proba(X_test_vectors_tfidf)[:,1]\n",
    " \n",
    "print(accuracy_score(Y_test, y_predict))\n",
    "print(classification_report(Y_test,y_predict))\n",
    "print('Confusion Matrix:',confusion_matrix(Y_test, y_predict))\n",
    " \n",
    "fpr, tpr, thresholds = roc_curve(Y_test, y_prob)\n",
    "roc_auc = auc(fpr, tpr)\n",
    "print('AUC:', roc_auc) "
   ]
  },
  {
   "cell_type": "code",
   "execution_count": 45,
   "id": "de9f635c",
   "metadata": {},
   "outputs": [
    {
     "name": "stdout",
     "output_type": "stream",
     "text": [
      "0.8769641268900089\n",
      "              precision    recall  f1-score   support\n",
      "\n",
      "           0       0.90      0.86      0.88      1748\n",
      "           1       0.86      0.89      0.87      1625\n",
      "\n",
      "    accuracy                           0.88      3373\n",
      "   macro avg       0.88      0.88      0.88      3373\n",
      "weighted avg       0.88      0.88      0.88      3373\n",
      "\n",
      "Confusion Matrix: [[1506  242]\n",
      " [ 173 1452]]\n",
      "AUC: 0.9490513994015137\n"
     ]
    }
   ],
   "source": [
    "nb_tfidf = MultinomialNB()\n",
    "nb_tfidf.fit(X_train_vectors_tfidf, Y_train)  #model\n",
    "\n",
    "#Predict y value for test dataset\n",
    "y_predict = nb_tfidf.predict(X_test_vectors_tfidf)\n",
    "y_prob = nb_tfidf.predict_proba(X_test_vectors_tfidf)[:,1]\n",
    " \n",
    "print(accuracy_score(Y_test, y_predict))\n",
    "print(classification_report(Y_test,y_predict))\n",
    "print('Confusion Matrix:',confusion_matrix(Y_test, y_predict))\n",
    " \n",
    "fpr, tpr, thresholds = roc_curve(Y_test, y_prob)\n",
    "roc_auc = auc(fpr, tpr)\n",
    "print('AUC:', roc_auc) "
   ]
  },
  {
   "cell_type": "code",
   "execution_count": 46,
   "id": "cd5e0669",
   "metadata": {},
   "outputs": [
    {
     "name": "stdout",
     "output_type": "stream",
     "text": [
      "0.8013637711236288\n",
      "              precision    recall  f1-score   support\n",
      "\n",
      "           0       0.88      0.71      0.79      1748\n",
      "           1       0.74      0.89      0.81      1625\n",
      "\n",
      "    accuracy                           0.80      3373\n",
      "   macro avg       0.81      0.80      0.80      3373\n",
      "weighted avg       0.81      0.80      0.80      3373\n",
      "\n",
      "Confusion Matrix: [[1249  499]\n",
      " [ 171 1454]]\n",
      "AUC: 0.882926069353987\n"
     ]
    }
   ],
   "source": [
    "#FITTING THE CLASSIFICATION MODEL using Logistic Regression (W2v)\n",
    "lr_w2v=LogisticRegression(solver = 'liblinear', C=10, penalty = 'l2')\n",
    "lr_w2v.fit(X_train_vectors_w2v, Y_train)  #model\n",
    "\n",
    "#Predict y value for test dataset\n",
    "y_predict = lr_w2v.predict(X_val_vectors_w2v)\n",
    "y_prob = lr_w2v.predict_proba(X_val_vectors_w2v)[:,1]\n",
    " \n",
    "print(accuracy_score(Y_test, y_predict))\n",
    "print(classification_report(Y_test,y_predict))\n",
    "print('Confusion Matrix:',confusion_matrix(Y_test, y_predict))\n",
    " \n",
    "fpr, tpr, thresholds = roc_curve(Y_test, y_prob)\n",
    "roc_auc = auc(fpr, tpr)\n",
    "print('AUC:', roc_auc)"
   ]
  },
  {
   "cell_type": "code",
   "execution_count": null,
   "id": "50d44dca",
   "metadata": {},
   "outputs": [],
   "source": []
  }
 ],
 "metadata": {
  "kernelspec": {
   "display_name": "Python 3.10.7 64-bit",
   "language": "python",
   "name": "python3"
  },
  "language_info": {
   "codemirror_mode": {
    "name": "ipython",
    "version": 3
   },
   "file_extension": ".py",
   "mimetype": "text/x-python",
   "name": "python",
   "nbconvert_exporter": "python",
   "pygments_lexer": "ipython3",
   "version": "3.10.7 (tags/v3.10.7:6cc6b13, Sep  5 2022, 14:08:36) [MSC v.1933 64 bit (AMD64)]"
  },
  "vscode": {
   "interpreter": {
    "hash": "b2194765557e7725c290a7683d2eb603dfddc015f92c1157854921e6d1191a2e"
   }
  }
 },
 "nbformat": 4,
 "nbformat_minor": 5
}
