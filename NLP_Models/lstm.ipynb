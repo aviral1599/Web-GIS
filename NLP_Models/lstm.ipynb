{
 "cells": [
  {
   "cell_type": "code",
   "execution_count": 1,
   "metadata": {},
   "outputs": [],
   "source": [
    "# %pip install nltk\n",
    "# %pip install numpy\n",
    "# %pip install pandas\n",
    "# %pip install sklearn\n",
    "# %pip install matplotlib\n",
    "# %pip install tensorflow"
   ]
  },
  {
   "cell_type": "code",
   "execution_count": 2,
   "metadata": {},
   "outputs": [],
   "source": [
    "import re\n",
    "import nltk\n",
    "import numpy as np\n",
    "import pandas as pd\n",
    "\n",
    "from matplotlib import pyplot as plt\n",
    "from tensorflow.keras.optimizers import Adam\n",
    "from tensorflow.keras.models import Sequential\n",
    "from tensorflow.keras.callbacks import EarlyStopping\n",
    "from sklearn.model_selection import train_test_split\n",
    "from tensorflow.keras.preprocessing.text import Tokenizer\n",
    "from tensorflow.keras.preprocessing.sequence import pad_sequences\n",
    "from tensorflow.keras.layers import Dense, LSTM, Activation, Embedding, Bidirectional, SpatialDropout1D"
   ]
  },
  {
   "cell_type": "code",
   "execution_count": 3,
   "metadata": {},
   "outputs": [],
   "source": [
    "# nltk.download('stopwords')"
   ]
  },
  {
   "cell_type": "code",
   "execution_count": 4,
   "metadata": {},
   "outputs": [],
   "source": [
    "from nltk.corpus import stopwords\n",
    "\n",
    "STOPWORDS = set(stopwords.words('english'))"
   ]
  },
  {
   "cell_type": "code",
   "execution_count": 5,
   "metadata": {},
   "outputs": [],
   "source": [
    "MIN_WORD_P_ENTRY = 1\n",
    "\n",
    "TEST_SIZE = 0.25\n",
    "VALIDATION_SIZE = 0.15\n",
    "\n",
    "MAX_SEQUENCE_LENGTH = 200\n",
    "TRUNC_TYPE= 'post'\n",
    "PADDING_TYPE = 'post'\n",
    "\n",
    "OOV_TOK= '<OOV>'\n",
    "\n",
    "EMBEDDING_DIM = 100\n",
    "LR = 0.001\n",
    "DECAY = 1e-6"
   ]
  },
  {
   "cell_type": "code",
   "execution_count": 6,
   "metadata": {},
   "outputs": [
    {
     "name": "stdout",
     "output_type": "stream",
     "text": [
      "<class 'pandas.core.frame.DataFrame'>\n",
      "RangeIndex: 68934 entries, 0 to 68933\n",
      "Data columns (total 2 columns):\n",
      " #   Column  Non-Null Count  Dtype \n",
      "---  ------  --------------  ----- \n",
      " 0   Title   68934 non-null  object\n",
      " 1   Label   68934 non-null  object\n",
      "dtypes: object(2)\n",
      "memory usage: 1.1+ MB\n",
      "None\n"
     ]
    }
   ],
   "source": [
    "train_df = pd.read_excel(\"../Scrapper_New/Data_Files/Final/CrimevsNonCrime2.xlsx\")\n",
    "print(train_df.info())"
   ]
  },
  {
   "cell_type": "code",
   "execution_count": 7,
   "metadata": {},
   "outputs": [
    {
     "name": "stdout",
     "output_type": "stream",
     "text": [
      "                                                    Title  Label\n",
      "count                                               68934  68934\n",
      "unique                                              68393      2\n",
      "top     Johnny Depp’s agent says Amber Heard’s op-ed p...  Crime\n",
      "freq                                                    2  35334\n",
      "All entries unique: False\n",
      "Null cells: 0\n"
     ]
    }
   ],
   "source": [
    "print(train_df.describe())\n",
    "\n",
    "print(f\"All entries unique: {train_df['Title'].nunique()==train_df.shape[0]}\")\n",
    "print(f\"Null cells: {train_df.isnull().sum().sum()}\")"
   ]
  },
  {
   "cell_type": "code",
   "execution_count": 8,
   "metadata": {},
   "outputs": [
    {
     "name": "stdout",
     "output_type": "stream",
     "text": [
      "All entries unique: True\n",
      "Null cells: 0\n"
     ]
    }
   ],
   "source": [
    "train_df.drop_duplicates(subset=['Title'], inplace=True, ignore_index=True, keep='first')\n",
    "train_df = train_df[train_df['Title'].map(len)>0]\n",
    "train_df.dropna()\n",
    "\n",
    "print(f\"All entries unique: {train_df['Title'].nunique()==train_df.shape[0]}\")\n",
    "print(f\"Null cells: {train_df.isnull().sum().sum()}\")"
   ]
  },
  {
   "cell_type": "code",
   "execution_count": 9,
   "metadata": {},
   "outputs": [
    {
     "name": "stdout",
     "output_type": "stream",
     "text": [
      "Label IDs\n",
      "{0: 'Crime', 1: 'Non-Crime'}\n"
     ]
    }
   ],
   "source": [
    "filtered_df = pd.DataFrame(columns=['text', 'label', 'word_count', 'label_name'])\n",
    "\n",
    "filtered_df['label_name'] = pd.Series(pd.Categorical(train_df['Label']))\n",
    "filtered_df['label'] = (pd.Categorical(filtered_df['label_name']).codes).astype(int)\n",
    "label_ids = dict(enumerate(filtered_df['label_name'].cat.categories))\n",
    "\n",
    "print(\"Label IDs\")\n",
    "print(label_ids)"
   ]
  },
  {
   "cell_type": "code",
   "execution_count": 10,
   "metadata": {},
   "outputs": [
    {
     "data": {
      "image/png": "[encoded data removed]",
      "text/plain": [
       "<Figure size 576x432 with 1 Axes>"
      ]
     },
     "metadata": {
      "needs_background": "light"
     },
     "output_type": "display_data"
    }
   ],
   "source": [
    "label_counts = train_df['Label'].value_counts()\n",
    "\n",
    "plt.figure(figsize=(8, 6))\n",
    "plt.bar(label_counts.index, label_counts, color=['red', 'green'])\n",
    "plt.xlabel('Count')\n",
    "plt.ylabel('Label')\n",
    "plt.title('Data Balance')\n",
    "plt.show()"
   ]
  },
  {
   "cell_type": "code",
   "execution_count": 11,
   "metadata": {},
   "outputs": [],
   "source": [
    "def preprocess_x(data, get_word_count = False, single_entry=False):\n",
    "    text_list = []\n",
    "    word_count = []\n",
    "\n",
    "    if not single_entry:\n",
    "        for entry in data:\n",
    "            new_text = re.sub(\"[^a-zA-Z ]\", \" \", entry)\n",
    "            new_text = [word for word in new_text.lower().split() if word not in STOPWORDS]\n",
    "            word_count.append(len(new_text))\n",
    "            new_text = ' '.join(new_text)\n",
    "            text_list.append(new_text)\n",
    "    else:\n",
    "        new_text = re.sub(\"[^a-zA-Z ]\", \" \", data)\n",
    "        new_text = [word for word in new_text.lower().split() if word not in STOPWORDS]\n",
    "        word_count.append(len(new_text))\n",
    "        new_text = ' '.join(new_text)\n",
    "        text_list.append(new_text)\n",
    "    \n",
    "    if get_word_count:\n",
    "        return text_list, word_count\n",
    "    else:\n",
    "        return text_list"
   ]
  },
  {
   "cell_type": "code",
   "execution_count": 12,
   "metadata": {},
   "outputs": [
    {
     "name": "stdout",
     "output_type": "stream",
     "text": [
      "                                                text  label  word_count  \\\n",
      "0  villager murdered chhattisgarh police suspect ...      0           7   \n",
      "1  maha nigerian man wanted drugs case found dead...      0          10   \n",
      "2           delhi police arrests absconding criminal      0           5   \n",
      "3            ott show undercover op cop life journey      0           7   \n",
      "4  internet services suspended days manipur secti...      0           7   \n",
      "\n",
      "  label_name  \n",
      "0      Crime  \n",
      "1      Crime  \n",
      "2      Crime  \n",
      "3      Crime  \n",
      "4      Crime  \n"
     ]
    }
   ],
   "source": [
    "filtered_df['text'], filtered_df['word_count'] = preprocess_x(train_df['Title'], get_word_count=True)\n",
    "filtered_df = filtered_df[filtered_df['text'].map(len)>MIN_WORD_P_ENTRY]\n",
    "\n",
    "print(filtered_df.head())"
   ]
  },
  {
   "cell_type": "code",
   "execution_count": 13,
   "metadata": {},
   "outputs": [
    {
     "name": "stdout",
     "output_type": "stream",
     "text": [
      "Word Count Stats:\n",
      "count    68393.000000\n",
      "mean         9.065504\n",
      "std          2.712731\n",
      "min          1.000000\n",
      "25%          7.000000\n",
      "50%          9.000000\n",
      "75%         11.000000\n",
      "max         24.000000\n",
      "Name: word_count, dtype: float64\n"
     ]
    },
    {
     "data": {
      "image/png": "[encoded data removed]",
      "text/plain": [
       "<Figure size 576x432 with 1 Axes>"
      ]
     },
     "metadata": {
      "needs_background": "light"
     },
     "output_type": "display_data"
    }
   ],
   "source": [
    "plt.figure(figsize=(8, 6))\n",
    "print('Word Count Stats:')\n",
    "print(filtered_df[\"word_count\"].describe())\n",
    "plt.hist(filtered_df['word_count'],color='red')\n",
    "plt.title('Word count')\n",
    "plt.xlabel('Word_count')\n",
    "plt.ylabel('Entry_Count')\n",
    "plt.show()"
   ]
  },
  {
   "cell_type": "code",
   "execution_count": 14,
   "metadata": {},
   "outputs": [],
   "source": [
    "# filtered_df.to_excel(\"../Scrapper_New/Data_Files/Final/CrimevsNonCrime2_filtered.xlsx\", index=False)"
   ]
  },
  {
   "cell_type": "code",
   "execution_count": 15,
   "metadata": {},
   "outputs": [],
   "source": [
    "x_train,x_test,y_train,y_test = train_test_split(filtered_df['text'], filtered_df['label'], test_size=TEST_SIZE,shuffle=True)"
   ]
  },
  {
   "cell_type": "code",
   "execution_count": 16,
   "metadata": {},
   "outputs": [],
   "source": [
    "def tokenise(tokenizer, data, maxlen=MAX_SEQUENCE_LENGTH, padding=PADDING_TYPE, truncating=TRUNC_TYPE):\n",
    "    data_sequences = tokenizer.texts_to_sequences(data)\n",
    "    data_padded = pad_sequences(data_sequences, maxlen=maxlen, padding=padding, truncating=truncating)\n",
    "    return data_padded"
   ]
  },
  {
   "cell_type": "code",
   "execution_count": 17,
   "metadata": {},
   "outputs": [
    {
     "name": "stdout",
     "output_type": "stream",
     "text": [
      "Token Count: 32616\n"
     ]
    }
   ],
   "source": [
    "tokenizer = Tokenizer(oov_token=OOV_TOK)\n",
    "tokenizer.fit_on_texts(x_train)\n",
    "word_index = tokenizer.word_index\n",
    "\n",
    "x_train_padded = tokenise(tokenizer, x_train)\n",
    "x_test_padded = tokenise(tokenizer, x_test)\n",
    "\n",
    "print(f'Token Count: {len(word_index)}')"
   ]
  },
  {
   "cell_type": "code",
   "execution_count": 18,
   "metadata": {},
   "outputs": [
    {
     "name": "stdout",
     "output_type": "stream",
     "text": [
      "Model: \"sequential\"\n",
      "_________________________________________________________________\n",
      " Layer (type)                Output Shape              Param #   \n",
      "=================================================================\n",
      " embedding (Embedding)       (None, None, 100)         3261700   \n",
      "                                                                 \n",
      " spatial_dropout1d (SpatialD  (None, None, 100)        0         \n",
      " ropout1D)                                                       \n",
      "                                                                 \n",
      " bidirectional (Bidirectiona  (None, 200)              160800    \n",
      " l)                                                              \n",
      "                                                                 \n",
      " dense (Dense)               (None, 2)                 402       \n",
      "                                                                 \n",
      "=================================================================\n",
      "Total params: 3,422,902\n",
      "Trainable params: 3,422,902\n",
      "Non-trainable params: 0\n",
      "_________________________________________________________________\n"
     ]
    }
   ],
   "source": [
    "MAX_NB_WORDS = len(word_index) + 1\n",
    "\n",
    "model = Sequential()\n",
    "\n",
    "model.add(Embedding(MAX_NB_WORDS,EMBEDDING_DIM))\n",
    "model.add(SpatialDropout1D(0.2))\n",
    "model.add(Bidirectional(LSTM(EMBEDDING_DIM)))\n",
    "model.add(Dense(2,activation='softmax'))\n",
    "\n",
    "model.summary()"
   ]
  },
  {
   "cell_type": "code",
   "execution_count": 19,
   "metadata": {},
   "outputs": [
    {
     "name": "stdout",
     "output_type": "stream",
     "text": [
      "Epoch 1/10\n",
      "722/722 [==============================] - 1902s 3s/step - loss: 0.2940 - accuracy: 0.8717 - val_loss: 0.2520 - val_accuracy: 0.8942\n",
      "Epoch 2/10\n",
      "722/722 [==============================] - 1912s 3s/step - loss: 0.1674 - accuracy: 0.9349 - val_loss: 0.2572 - val_accuracy: 0.8949\n",
      "Epoch 3/10\n",
      "722/722 [==============================] - 1623s 2s/step - loss: 0.1053 - accuracy: 0.9627 - val_loss: 0.2999 - val_accuracy: 0.8893\n",
      "Epoch 4/10\n",
      "722/722 [==============================] - 1509s 2s/step - loss: 0.0657 - accuracy: 0.9764 - val_loss: 0.3921 - val_accuracy: 0.8852\n",
      "Epoch 4: early stopping\n"
     ]
    }
   ],
   "source": [
    "optimizer = Adam(learning_rate=LR, decay=DECAY)\n",
    "model.compile(\n",
    "    loss='sparse_categorical_crossentropy',\n",
    "    optimizer=optimizer,\n",
    "    metrics=['accuracy']\n",
    ")\n",
    "\n",
    "num_epochs = 10\n",
    "history = model.fit(\n",
    "    x_train_padded, y_train,\n",
    "    batch_size=64,\n",
    "    epochs=num_epochs,\n",
    "    validation_split=0.1,\n",
    "    callbacks=[EarlyStopping(monitor='val_loss', mode='min', patience=3, min_delta=0.0001, verbose=1)],\n",
    "    verbose=1)"
   ]
  },
  {
   "cell_type": "code",
   "execution_count": 20,
   "metadata": {},
   "outputs": [
    {
     "name": "stdout",
     "output_type": "stream",
     "text": [
      "535/535 [==============================] - 136s 254ms/step - loss: 0.3859 - accuracy: 0.8870\n",
      "Test set\n",
      "  Loss: 0.386\n",
      "  Accuracy: 0.887\n"
     ]
    }
   ],
   "source": [
    "accr = model.evaluate(x_test_padded,y_test)\n",
    "print('Test set\\n  Loss: {:0.3f}\\n  Accuracy: {:0.3f}'.format(accr[0],accr[1]))"
   ]
  },
  {
   "cell_type": "code",
   "execution_count": 21,
   "metadata": {},
   "outputs": [
    {
     "data": {
      "image/png": "[encoded data removed]",
      "text/plain": [
       "<Figure size 432x288 with 1 Axes>"
      ]
     },
     "metadata": {
      "needs_background": "light"
     },
     "output_type": "display_data"
    },
    {
     "data": {
      "image/png": "[encoded data removed]",
      "text/plain": [
       "<Figure size 432x288 with 1 Axes>"
      ]
     },
     "metadata": {
      "needs_background": "light"
     },
     "output_type": "display_data"
    }
   ],
   "source": [
    "plt.title('Loss')\n",
    "plt.plot(history.history['loss'], label='train')\n",
    "plt.plot(history.history['val_loss'], label='valid')\n",
    "plt.legend()\n",
    "plt.show()\n",
    "plt.title('Accuracy')\n",
    "plt.plot(history.history['accuracy'], label='train')\n",
    "plt.plot(history.history['val_accuracy'], label='valid')\n",
    "plt.legend()\n",
    "plt.show()"
   ]
  },
  {
   "cell_type": "code",
   "execution_count": 22,
   "metadata": {},
   "outputs": [
    {
     "name": "stdout",
     "output_type": "stream",
     "text": [
      "1/1 [==============================] - 3s 3s/step\n",
      "Text: 25 year man killed over petty argument in Ghat Kopar\n",
      "Label: Crime\n",
      "Confidence: 99.99874830245972\n",
      "\n",
      "Text: Kartik Aaryan-Kiara Adwani Satya Prem ki Katha gets release date\n",
      "Label: Non-Crime\n",
      "Confidence: 99.98643398284912\n",
      "\n",
      "Text: She stole my heart\n",
      "Label: Crime\n",
      "Confidence: 93.62927079200745\n",
      "\n",
      "Text: Man stole 5 sheep for wool\n",
      "Label: Crime\n",
      "Confidence: 99.92709755897522\n",
      "\n"
     ]
    }
   ],
   "source": [
    "complaints = ['25 year man killed over petty argument in Ghat Kopar',\n",
    "              'Kartik Aaryan-Kiara Adwani Satya Prem ki Katha gets release date',\n",
    "              'She stole my heart',\n",
    "              'Man stole 5 sheep for wool']\n",
    "pre_complaints = preprocess_x(complaints)\n",
    "padded = tokenise(tokenizer, pre_complaints)\n",
    "preds = model.predict(padded)\n",
    "for idx in range(len(preds)):\n",
    "    print(f'Text: {complaints[idx]}')\n",
    "    print(f'Label: {label_ids[np.argmax(preds[idx])]}')\n",
    "    print(f'Confidence: {preds[idx][np.argmax(preds[idx])] * 100}')\n",
    "    print()"
   ]
  }
 ],
 "metadata": {
  "kernelspec": {
   "display_name": "Python 3.9.13 64-bit (windows store)",
   "language": "python",
   "name": "python3"
  },
  "language_info": {
   "codemirror_mode": {
    "name": "ipython",
    "version": 3
   },
   "file_extension": ".py",
   "mimetype": "text/x-python",
   "name": "python",
   "nbconvert_exporter": "python",
   "pygments_lexer": "ipython3",
   "version": "3.9.13"
  },
  "orig_nbformat": 4,
  "vscode": {
   "interpreter": {
    "hash": "5b6d47590f999a800716eb982ff21d5a6775fcf2e01ec0861991d54625e34c1b"
   }
  }
 },
 "nbformat": 4,
 "nbformat_minor": 2
}
