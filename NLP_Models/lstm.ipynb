{
 "cells": [
  {
   "cell_type": "code",
   "execution_count": 1,
   "metadata": {},
   "outputs": [],
   "source": [
    "# %pip install nltk\n",
    "# %pip install numpy\n",
    "# %pip install pandas\n",
    "# %pip install sklearn\n",
    "# %pip install matplotlib\n",
    "# %pip install tensorflow"
   ]
  },
  {
   "cell_type": "code",
   "execution_count": 2,
   "metadata": {},
   "outputs": [],
   "source": [
    "import re\n",
    "import nltk\n",
    "import numpy as np\n",
    "import pandas as pd\n",
    "\n",
    "from matplotlib import pyplot as plt\n",
    "from tensorflow.keras.optimizers import Adam\n",
    "from tensorflow.keras.models import Sequential\n",
    "from tensorflow.keras.callbacks import EarlyStopping\n",
    "from sklearn.model_selection import train_test_split\n",
    "from tensorflow.keras.preprocessing.text import Tokenizer\n",
    "from tensorflow.keras.preprocessing.sequence import pad_sequences\n",
    "from tensorflow.keras.layers import Dense, Flatten, LSTM, Dropout, Activation, Embedding, Bidirectional, SpatialDropout1D"
   ]
  },
  {
   "cell_type": "code",
   "execution_count": 3,
   "metadata": {},
   "outputs": [
    {
     "name": "stderr",
     "output_type": "stream",
     "text": [
      "[nltk_data] Downloading package stopwords to\n",
      "[nltk_data]     C:\\Users\\SHASHWAT\\AppData\\Roaming\\nltk_data...\n",
      "[nltk_data]   Package stopwords is already up-to-date!\n"
     ]
    }
   ],
   "source": [
    "nltk.download('stopwords')\n",
    "\n",
    "from nltk.corpus import stopwords\n",
    "\n",
    "STOPWORDS = set(stopwords.words('english'))"
   ]
  },
  {
   "cell_type": "code",
   "execution_count": 4,
   "metadata": {},
   "outputs": [
    {
     "name": "stdout",
     "output_type": "stream",
     "text": [
      "<class 'pandas.core.frame.DataFrame'>\n",
      "RangeIndex: 16864 entries, 0 to 16863\n",
      "Data columns (total 2 columns):\n",
      " #   Column  Non-Null Count  Dtype \n",
      "---  ------  --------------  ----- \n",
      " 0   Title   16864 non-null  object\n",
      " 1   Label   16864 non-null  object\n",
      "dtypes: object(2)\n",
      "memory usage: 263.6+ KB\n",
      "None\n"
     ]
    }
   ],
   "source": [
    "train_df = pd.read_excel(\"../Scrapper_New/Data_Files/Final/CrimevsNonCrime.xlsx\")\n",
    "print(train_df.info())"
   ]
  },
  {
   "cell_type": "code",
   "execution_count": 5,
   "metadata": {},
   "outputs": [
    {
     "name": "stdout",
     "output_type": "stream",
     "text": [
      "                                                    Title  Label\n",
      "count                                               16864  16864\n",
      "unique                                              16330      2\n",
      "top     FIFA takes on EA Sports video game in soccer’s...  Crime\n",
      "freq                                                    4   8641\n",
      "All entries unique: False\n",
      "Null cells: 0\n"
     ]
    }
   ],
   "source": [
    "print(train_df.describe())\n",
    "\n",
    "print(f\"All entries unique: {train_df['Title'].nunique()==train_df.shape[0]}\")\n",
    "print(f\"Null cells: {train_df.isnull().sum().sum()}\")"
   ]
  },
  {
   "cell_type": "code",
   "execution_count": 6,
   "metadata": {},
   "outputs": [
    {
     "name": "stdout",
     "output_type": "stream",
     "text": [
      "All entries unique: True\n",
      "Null cells: 0\n"
     ]
    }
   ],
   "source": [
    "train_df.drop_duplicates(subset=['Title'], inplace=True, ignore_index=True, keep='first')\n",
    "\n",
    "print(f\"All entries unique: {train_df['Title'].nunique()==train_df.shape[0]}\")\n",
    "print(f\"Null cells: {train_df.isnull().sum().sum()}\")"
   ]
  },
  {
   "cell_type": "code",
   "execution_count": 7,
   "metadata": {},
   "outputs": [
    {
     "name": "stdout",
     "output_type": "stream",
     "text": [
      "Label IDs\n",
      "{0: 'Crime', 1: 'Non-Crime'}\n"
     ]
    }
   ],
   "source": [
    "filtered_df = pd.DataFrame(columns=['text', 'label', 'word_count', 'label_name'])\n",
    "\n",
    "filtered_df['label_name'] = pd.Series(pd.Categorical(train_df['Label']))\n",
    "filtered_df['label'] = (pd.Categorical(filtered_df['label_name']).codes).astype(int)\n",
    "label_ids = dict(enumerate(filtered_df['label_name'].cat.categories))\n",
    "\n",
    "print(\"Label IDs\")\n",
    "print(label_ids)"
   ]
  },
  {
   "cell_type": "code",
   "execution_count": 8,
   "metadata": {},
   "outputs": [
    {
     "data": {
      "image/png": "[encoded data removed]",
      "text/plain": [
       "<Figure size 576x432 with 1 Axes>"
      ]
     },
     "metadata": {
      "needs_background": "light"
     },
     "output_type": "display_data"
    }
   ],
   "source": [
    "label_counts = train_df['Label'].value_counts()\n",
    "\n",
    "plt.figure(figsize=(8, 6))\n",
    "plt.bar(label_counts.index, label_counts, color=['red', 'green'])\n",
    "plt.xlabel('Count')\n",
    "plt.ylabel('Label')\n",
    "plt.title('Data Balance')\n",
    "plt.show()"
   ]
  },
  {
   "cell_type": "code",
   "execution_count": 20,
   "metadata": {},
   "outputs": [],
   "source": [
    "def preprocess_x(data, get_word_count = False, single_entry=False):\n",
    "    text_list = []\n",
    "    word_count = []\n",
    "\n",
    "    if not single_entry:\n",
    "        for entry in data:\n",
    "            new_text = re.sub(\"[^a-zA-Z ]\", \" \", entry)\n",
    "            new_text = [word for word in new_text.lower().split() if word not in STOPWORDS]\n",
    "            word_count.append(len(new_text))\n",
    "            new_text = ' '.join(new_text)\n",
    "            text_list.append(new_text)\n",
    "    else:\n",
    "        new_text = re.sub(\"[^a-zA-Z ]\", \" \", data)\n",
    "        new_text = [word for word in new_text.lower().split() if word not in STOPWORDS]\n",
    "        word_count.append(len(new_text))\n",
    "        new_text = ' '.join(new_text)\n",
    "        text_list.append(new_text)\n",
    "    \n",
    "    if get_word_count:\n",
    "        return text_list, word_count\n",
    "    else:\n",
    "        return text_list"
   ]
  },
  {
   "cell_type": "code",
   "execution_count": 21,
   "metadata": {},
   "outputs": [
    {
     "name": "stdout",
     "output_type": "stream",
     "text": [
      "                                                text  label  word_count  \\\n",
      "0  minor raped cop jharkhand hazaribagh accused a...      0           7   \n",
      "1  saw brother getting killed bhilwara victim bro...      0          11   \n",
      "2  delhi police arrests burglar recovers huge qua...      0          11   \n",
      "3  pregnant woman raped hospital staff mirzapur a...      0           8   \n",
      "4  muzaffarpur year old girl thrashed gang raped ...      0           9   \n",
      "\n",
      "  label_name  \n",
      "0      Crime  \n",
      "1      Crime  \n",
      "2      Crime  \n",
      "3      Crime  \n",
      "4      Crime  \n"
     ]
    }
   ],
   "source": [
    "filtered_df['text'], filtered_df['word_count'] = preprocess_x(train_df['Title'], get_word_count=True)\n",
    "\n",
    "print(filtered_df.head())"
   ]
  },
  {
   "cell_type": "code",
   "execution_count": 22,
   "metadata": {},
   "outputs": [
    {
     "name": "stdout",
     "output_type": "stream",
     "text": [
      "Average Word count: 8.88658909981629\n"
     ]
    },
    {
     "data": {
      "image/png": "[encoded data removed]",
      "text/plain": [
       "<Figure size 576x432 with 1 Axes>"
      ]
     },
     "metadata": {
      "needs_background": "light"
     },
     "output_type": "display_data"
    }
   ],
   "source": [
    "plt.figure(figsize=(8, 6))\n",
    "print(f'Average Word count: {np.average(filtered_df[\"word_count\"])}')\n",
    "plt.hist(filtered_df['word_count'],color='red')\n",
    "plt.title('Word count')\n",
    "plt.xlabel('Word_count')\n",
    "plt.ylabel('Entry_Count')\n",
    "plt.show()"
   ]
  },
  {
   "cell_type": "code",
   "execution_count": 23,
   "metadata": {},
   "outputs": [],
   "source": [
    "MAX_NB_WORDS = 20000\n",
    "MAX_SEQUENCE_LENGTH = 200\n",
    "EMBEDDING_DIM = 100\n",
    "TRUNC_TYPE= 'post'\n",
    "PADDING_TYPE = 'post'\n",
    "OOV_TOK= '<OOV>'\n",
    "TEST_SIZE = 0.2\n",
    "VALIDATION_SIZE = 0.1\n",
    "LR = 0.001\n",
    "DECAY = 1e-6\n",
    "NUM_EPOCH = 5"
   ]
  },
  {
   "cell_type": "code",
   "execution_count": 24,
   "metadata": {},
   "outputs": [
    {
     "data": {
      "image/png": "[encoded data removed]",
      "text/plain": [
       "<Figure size 576x432 with 1 Axes>"
      ]
     },
     "metadata": {
      "needs_background": "light"
     },
     "output_type": "display_data"
    },
    {
     "data": {
      "image/png": "[encoded data removed]",
      "text/plain": [
       "<Figure size 576x432 with 1 Axes>"
      ]
     },
     "metadata": {
      "needs_background": "light"
     },
     "output_type": "display_data"
    },
    {
     "data": {
      "image/png": "[encoded data removed]",
      "text/plain": [
       "<Figure size 576x432 with 1 Axes>"
      ]
     },
     "metadata": {
      "needs_background": "light"
     },
     "output_type": "display_data"
    }
   ],
   "source": [
    "x_train_val,x_test,y_train_val,y_test = train_test_split(filtered_df['text'], filtered_df['label'], test_size=TEST_SIZE,shuffle=True)\n",
    "x_train,x_val,y_train,y_val = train_test_split(x_train_val, y_train_val, test_size=VALIDATION_SIZE,shuffle=True)\n",
    "\n",
    "train_label_counts = y_train.value_counts()\n",
    "test_label_counts = y_test.value_counts()\n",
    "val_label_counts = y_val.value_counts()\n",
    "\n",
    "plt.figure(figsize=(8, 6))\n",
    "plt.bar(train_label_counts.index, train_label_counts, color=['red', 'green'])\n",
    "plt.xlabel('Count')\n",
    "plt.ylabel('Label')\n",
    "plt.title('Train Data Balance')\n",
    "plt.show()\n",
    "plt.figure(figsize=(8, 6))\n",
    "plt.bar(test_label_counts.index, test_label_counts, color=['red', 'green'])\n",
    "plt.xlabel('Count')\n",
    "plt.ylabel('Label')\n",
    "plt.title('Test Data Balance')\n",
    "plt.show()\n",
    "plt.figure(figsize=(8, 6))\n",
    "plt.bar(val_label_counts.index, val_label_counts, color=['red', 'green'])\n",
    "plt.xlabel('Count')\n",
    "plt.ylabel('Label')\n",
    "plt.title('Validation Data Balance')\n",
    "plt.show()"
   ]
  },
  {
   "cell_type": "code",
   "execution_count": 25,
   "metadata": {},
   "outputs": [],
   "source": [
    "def tokenise(tokenizer, data, maxlen=MAX_SEQUENCE_LENGTH, padding=PADDING_TYPE, truncating=TRUNC_TYPE):\n",
    "    data_sequences = tokenizer.texts_to_sequences(data)\n",
    "    data_padded = pad_sequences(data_sequences, maxlen=maxlen, padding=padding, truncating=truncating)\n",
    "    return data_padded"
   ]
  },
  {
   "cell_type": "code",
   "execution_count": 26,
   "metadata": {},
   "outputs": [],
   "source": [
    "tokenizer = Tokenizer(num_words = MAX_NB_WORDS, oov_token=OOV_TOK)\n",
    "tokenizer.fit_on_texts(filtered_df['text'])\n",
    "word_index = tokenizer.word_index\n",
    "\n",
    "x_train_padded = tokenise(tokenizer, x_train)\n",
    "x_test_padded = tokenise(tokenizer, x_test)\n",
    "x_val_padded = tokenise(tokenizer, x_val)"
   ]
  },
  {
   "cell_type": "code",
   "execution_count": 30,
   "metadata": {},
   "outputs": [
    {
     "name": "stdout",
     "output_type": "stream",
     "text": [
      "Model: \"sequential_2\"\n",
      "_________________________________________________________________\n",
      " Layer (type)                Output Shape              Param #   \n",
      "=================================================================\n",
      " embedding_2 (Embedding)     (None, None, 100)         2000000   \n",
      "                                                                 \n",
      " spatial_dropout1d_2 (Spatia  (None, None, 100)        0         \n",
      " lDropout1D)                                                     \n",
      "                                                                 \n",
      " bidirectional_2 (Bidirectio  (None, 200)              160800    \n",
      " nal)                                                            \n",
      "                                                                 \n",
      " dense_2 (Dense)             (None, 2)                 402       \n",
      "                                                                 \n",
      "=================================================================\n",
      "Total params: 2,161,202\n",
      "Trainable params: 2,161,202\n",
      "Non-trainable params: 0\n",
      "_________________________________________________________________\n"
     ]
    }
   ],
   "source": [
    "model = Sequential()\n",
    "\n",
    "model.add(Embedding(MAX_NB_WORDS,EMBEDDING_DIM))\n",
    "model.add(SpatialDropout1D(0.2))\n",
    "model.add(Bidirectional(LSTM(EMBEDDING_DIM)))\n",
    "model.add(Dense(2,activation='softmax'))\n",
    "\n",
    "model.summary()"
   ]
  },
  {
   "cell_type": "code",
   "execution_count": 31,
   "metadata": {},
   "outputs": [
    {
     "name": "stdout",
     "output_type": "stream",
     "text": [
      "Epoch 1/5\n",
      "368/368 - 188s - loss: 0.3520 - accuracy: 0.8386 - val_loss: 0.2655 - val_accuracy: 0.8914 - 188s/epoch - 510ms/step\n",
      "Epoch 2/5\n",
      "368/368 - 166s - loss: 0.1429 - accuracy: 0.9465 - val_loss: 0.3320 - val_accuracy: 0.8768 - 166s/epoch - 451ms/step\n",
      "Epoch 3/5\n",
      "368/368 - 161s - loss: 0.0615 - accuracy: 0.9783 - val_loss: 0.4998 - val_accuracy: 0.8615 - 161s/epoch - 438ms/step\n",
      "Epoch 4/5\n",
      "368/368 - 160s - loss: 0.0245 - accuracy: 0.9924 - val_loss: 0.5919 - val_accuracy: 0.8623 - 160s/epoch - 436ms/step\n"
     ]
    }
   ],
   "source": [
    "optimizer = Adam(learning_rate=LR, decay=DECAY)\n",
    "model.compile(\n",
    "    loss='sparse_categorical_crossentropy',\n",
    "    optimizer=optimizer,\n",
    "    metrics=['accuracy'],\n",
    ")\n",
    "\n",
    "history = model.fit(\n",
    "    x_train_padded, y_train,\n",
    "    epochs=5,\n",
    "    # validation_split=0.1,\n",
    "    validation_data=(x_val_padded, y_val),\n",
    "    callbacks=[EarlyStopping(monitor='val_loss', patience=3, min_delta=0.0001)],\n",
    "    verbose=2)"
   ]
  },
  {
   "cell_type": "code",
   "execution_count": 32,
   "metadata": {},
   "outputs": [
    {
     "name": "stdout",
     "output_type": "stream",
     "text": [
      "103/103 [==============================] - 16s 156ms/step - loss: 0.5466 - accuracy: 0.8686\n",
      "Test set\n",
      "  Loss: 0.547\n",
      "  Accuracy: 0.869\n"
     ]
    }
   ],
   "source": [
    "accr = model.evaluate(x_test_padded,y_test)\n",
    "print('Test set\\n  Loss: {:0.3f}\\n  Accuracy: {:0.3f}'.format(accr[0],accr[1]))"
   ]
  },
  {
   "cell_type": "code",
   "execution_count": 33,
   "metadata": {},
   "outputs": [
    {
     "data": {
      "image/png": "[encoded data removed]",
      "text/plain": [
       "<Figure size 432x288 with 1 Axes>"
      ]
     },
     "metadata": {
      "needs_background": "light"
     },
     "output_type": "display_data"
    },
    {
     "data": {
      "image/png": "[encoded data removed]",
      "text/plain": [
       "<Figure size 432x288 with 1 Axes>"
      ]
     },
     "metadata": {
      "needs_background": "light"
     },
     "output_type": "display_data"
    }
   ],
   "source": [
    "plt.title('Loss')\n",
    "plt.plot(history.history['loss'], label='train')\n",
    "plt.plot(history.history['val_loss'], label='test')\n",
    "plt.legend()\n",
    "plt.show()\n",
    "plt.title('Accuracy')\n",
    "plt.plot(history.history['accuracy'], label='train')\n",
    "plt.plot(history.history['val_accuracy'], label='test')\n",
    "plt.legend()\n",
    "plt.show()"
   ]
  },
  {
   "cell_type": "code",
   "execution_count": 34,
   "metadata": {},
   "outputs": [
    {
     "name": "stdout",
     "output_type": "stream",
     "text": [
      "[[4.1780935e-04 9.9958223e-01]] 1 Non-Crime\n"
     ]
    }
   ],
   "source": [
    "new_complaint = [\"NRC to be carried out across India, Shah tells Rajya Sabha; Mamata says 'won't allow'\"]\n",
    "pre_complaint = preprocess_x(new_complaint)\n",
    "padded = tokenise(tokenizer, pre_complaint)\n",
    "pred = model.predict(padded)\n",
    "print(pred,np.argmax(pred),label_ids[np.argmax(pred)])"
   ]
  }
 ],
 "metadata": {
  "kernelspec": {
   "display_name": "Python 3.9.6 64-bit",
   "language": "python",
   "name": "python3"
  },
  "language_info": {
   "codemirror_mode": {
    "name": "ipython",
    "version": 3
   },
   "file_extension": ".py",
   "mimetype": "text/x-python",
   "name": "python",
   "nbconvert_exporter": "python",
   "pygments_lexer": "ipython3",
   "version": "3.9.6"
  },
  "orig_nbformat": 4,
  "vscode": {
   "interpreter": {
    "hash": "30fa04032aebd2312b426238ddbfe76e272410658ea3a88c02ce51e063c35827"
   }
  }
 },
 "nbformat": 4,
 "nbformat_minor": 2
}
