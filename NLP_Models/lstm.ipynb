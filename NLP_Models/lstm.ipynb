{
 "cells": [
  {
   "cell_type": "code",
   "execution_count": 1,
   "metadata": {},
   "outputs": [],
   "source": [
    "# %pip install nltk\n",
    "# %pip install numpy\n",
    "# %pip install pandas\n",
    "# %pip install sklearn\n",
    "# %pip install matplotlib\n",
    "# %pip install tensorflow"
   ]
  },
  {
   "cell_type": "code",
   "execution_count": 2,
   "metadata": {},
   "outputs": [],
   "source": [
    "import re\n",
    "import nltk\n",
    "import numpy as np\n",
    "import pandas as pd\n",
    "\n",
    "from matplotlib import pyplot as plt\n",
    "from tensorflow.keras.optimizers import Adam\n",
    "from tensorflow.keras.models import Sequential\n",
    "from tensorflow.keras.callbacks import EarlyStopping\n",
    "from sklearn.model_selection import train_test_split\n",
    "from tensorflow.keras.preprocessing.text import Tokenizer\n",
    "from tensorflow.keras.preprocessing.sequence import pad_sequences\n",
    "from tensorflow.keras.layers import Dense, Flatten, LSTM, Dropout, Activation, Embedding, Bidirectional, SpatialDropout1D"
   ]
  },
  {
   "cell_type": "code",
   "execution_count": 4,
   "metadata": {},
   "outputs": [],
   "source": [
    "from nltk.corpus import stopwords\n",
    "\n",
    "STOPWORDS = set(stopwords.words('english'))"
   ]
  },
  {
   "cell_type": "code",
   "execution_count": 5,
   "metadata": {},
   "outputs": [
    {
     "name": "stdout",
     "output_type": "stream",
     "text": [
      "<class 'pandas.core.frame.DataFrame'>\n",
      "RangeIndex: 16864 entries, 0 to 16863\n",
      "Data columns (total 2 columns):\n",
      " #   Column  Non-Null Count  Dtype \n",
      "---  ------  --------------  ----- \n",
      " 0   Title   16864 non-null  object\n",
      " 1   Label   16864 non-null  object\n",
      "dtypes: object(2)\n",
      "memory usage: 263.6+ KB\n",
      "None\n"
     ]
    }
   ],
   "source": [
    "train_df = pd.read_excel(\"../Scrapper_New/Data_Files/Final/CrimevsNonCrime.xlsx\")\n",
    "print(train_df.info())"
   ]
  },
  {
   "cell_type": "code",
   "execution_count": 6,
   "metadata": {},
   "outputs": [
    {
     "name": "stdout",
     "output_type": "stream",
     "text": [
      "                                                    Title  Label\n",
      "count                                               16864  16864\n",
      "unique                                              16330      2\n",
      "top     Could China invade Taiwan and what would that ...  Crime\n",
      "freq                                                    4   8641\n",
      "All entries unique: False\n",
      "Null cells: 0\n"
     ]
    }
   ],
   "source": [
    "print(train_df.describe())\n",
    "\n",
    "print(f\"All entries unique: {train_df['Title'].nunique()==train_df.shape[0]}\")\n",
    "print(f\"Null cells: {train_df.isnull().sum().sum()}\")"
   ]
  },
  {
   "cell_type": "code",
   "execution_count": 7,
   "metadata": {},
   "outputs": [
    {
     "name": "stdout",
     "output_type": "stream",
     "text": [
      "All entries unique: True\n",
      "Null cells: 0\n"
     ]
    }
   ],
   "source": [
    "train_df.drop_duplicates(subset=['Title'], inplace=True, ignore_index=True, keep='first')\n",
    "\n",
    "print(f\"All entries unique: {train_df['Title'].nunique()==train_df.shape[0]}\")\n",
    "print(f\"Null cells: {train_df.isnull().sum().sum()}\")"
   ]
  },
  {
   "cell_type": "code",
   "execution_count": 8,
   "metadata": {},
   "outputs": [
    {
     "name": "stdout",
     "output_type": "stream",
     "text": [
      "Label IDs\n",
      "{0: 'Crime', 1: 'Non-Crime'}\n"
     ]
    }
   ],
   "source": [
    "filtered_df = pd.DataFrame(columns=['text', 'label', 'word_count', 'label_name'])\n",
    "\n",
    "filtered_df['label_name'] = pd.Series(pd.Categorical(train_df['Label']))\n",
    "filtered_df['label'] = (pd.Categorical(filtered_df['label_name']).codes).astype(int)\n",
    "label_ids = dict(enumerate(filtered_df['label_name'].cat.categories))\n",
    "\n",
    "print(\"Label IDs\")\n",
    "print(label_ids)"
   ]
  },
  {
   "cell_type": "code",
   "execution_count": 9,
   "metadata": {},
   "outputs": [
    {
     "data": {
      "image/png": "[encoded data removed]",
      "text/plain": [
       "<Figure size 576x432 with 1 Axes>"
      ]
     },
     "metadata": {
      "needs_background": "light"
     },
     "output_type": "display_data"
    }
   ],
   "source": [
    "label_counts = train_df['Label'].value_counts()\n",
    "\n",
    "plt.figure(figsize=(8, 6))\n",
    "plt.bar(label_counts.index, label_counts, color=['red', 'green'])\n",
    "plt.xlabel('Count')\n",
    "plt.ylabel('Label')\n",
    "plt.title('Data Balance')\n",
    "plt.show()"
   ]
  },
  {
   "cell_type": "code",
   "execution_count": 10,
   "metadata": {},
   "outputs": [],
   "source": [
    "def preprocess_x(data, get_word_count = False, single_entry=False):\n",
    "    text_list = []\n",
    "    word_count = []\n",
    "\n",
    "    if not single_entry:\n",
    "        for entry in data:\n",
    "            new_text = re.sub(\"[^a-zA-Z ]\", \" \", entry)\n",
    "            new_text = [word for word in new_text.lower().split() if word not in STOPWORDS]\n",
    "            word_count.append(len(new_text))\n",
    "            new_text = ' '.join(new_text)\n",
    "            text_list.append(new_text)\n",
    "    else:\n",
    "        new_text = re.sub(\"[^a-zA-Z ]\", \" \", data)\n",
    "        new_text = [word for word in new_text.lower().split() if word not in STOPWORDS]\n",
    "        word_count.append(len(new_text))\n",
    "        new_text = ' '.join(new_text)\n",
    "        text_list.append(new_text)\n",
    "    \n",
    "    if get_word_count:\n",
    "        return text_list, word_count\n",
    "    else:\n",
    "        return text_list"
   ]
  },
  {
   "cell_type": "code",
   "execution_count": 11,
   "metadata": {},
   "outputs": [
    {
     "name": "stdout",
     "output_type": "stream",
     "text": [
      "                                                text  label  word_count  \\\n",
      "0  minor raped cop jharkhand hazaribagh accused a...      0           7   \n",
      "1  saw brother getting killed bhilwara victim bro...      0          11   \n",
      "2  delhi police arrests burglar recovers huge qua...      0          11   \n",
      "3  pregnant woman raped hospital staff mirzapur a...      0           8   \n",
      "4  muzaffarpur year old girl thrashed gang raped ...      0           9   \n",
      "\n",
      "  label_name  \n",
      "0      Crime  \n",
      "1      Crime  \n",
      "2      Crime  \n",
      "3      Crime  \n",
      "4      Crime  \n"
     ]
    }
   ],
   "source": [
    "filtered_df['text'], filtered_df['word_count'] = preprocess_x(train_df['Title'], get_word_count=True)\n",
    "\n",
    "print(filtered_df.head())"
   ]
  },
  {
   "cell_type": "code",
   "execution_count": 12,
   "metadata": {},
   "outputs": [
    {
     "name": "stdout",
     "output_type": "stream",
     "text": [
      "Average Word count: 8.88658909981629\n"
     ]
    },
    {
     "data": {
      "image/png": "[encoded data removed]",
      "text/plain": [
       "<Figure size 576x432 with 1 Axes>"
      ]
     },
     "metadata": {
      "needs_background": "light"
     },
     "output_type": "display_data"
    }
   ],
   "source": [
    "plt.figure(figsize=(8, 6))\n",
    "print(f'Average Word count: {np.average(filtered_df[\"word_count\"])}')\n",
    "plt.hist(filtered_df['word_count'],color='red')\n",
    "plt.title('Word count')\n",
    "plt.xlabel('Word_count')\n",
    "plt.ylabel('Entry_Count')\n",
    "plt.show()"
   ]
  },
  {
   "cell_type": "code",
   "execution_count": 13,
   "metadata": {},
   "outputs": [],
   "source": [
    "MAX_NB_WORDS = 20000\n",
    "MAX_SEQUENCE_LENGTH = 200\n",
    "EMBEDDING_DIM = 100\n",
    "TRUNC_TYPE= 'post'\n",
    "PADDING_TYPE = 'post'\n",
    "OOV_TOK= '<OOV>'\n",
    "TEST_SIZE = 0.2\n",
    "VALIDATION_SIZE = 0.1\n",
    "LR = 0.001\n",
    "DECAY = 1e-6"
   ]
  },
  {
   "cell_type": "code",
   "execution_count": 14,
   "metadata": {},
   "outputs": [],
   "source": [
    "x_train,x_test,y_train,y_test = train_test_split(filtered_df['text'], filtered_df['label'], test_size=TEST_SIZE,shuffle=True)"
   ]
  },
  {
   "cell_type": "code",
   "execution_count": 15,
   "metadata": {},
   "outputs": [],
   "source": [
    "def tokenise(tokenizer, data, maxlen=MAX_SEQUENCE_LENGTH, padding=PADDING_TYPE, truncating=TRUNC_TYPE):\n",
    "    data_sequences = tokenizer.texts_to_sequences(data)\n",
    "    data_padded = pad_sequences(data_sequences, maxlen=maxlen, padding=padding, truncating=truncating)\n",
    "    return data_padded"
   ]
  },
  {
   "cell_type": "code",
   "execution_count": 16,
   "metadata": {},
   "outputs": [],
   "source": [
    "tokenizer = Tokenizer(num_words = MAX_NB_WORDS, oov_token=OOV_TOK)\n",
    "tokenizer.fit_on_texts(x_train)\n",
    "word_index = tokenizer.word_index\n",
    "\n",
    "x_train_padded = tokenise(tokenizer, x_train)\n",
    "x_test_padded = tokenise(tokenizer, x_test)"
   ]
  },
  {
   "cell_type": "code",
   "execution_count": 17,
   "metadata": {},
   "outputs": [
    {
     "name": "stdout",
     "output_type": "stream",
     "text": [
      "Model: \"sequential\"\n",
      "_________________________________________________________________\n",
      " Layer (type)                Output Shape              Param #   \n",
      "=================================================================\n",
      " embedding (Embedding)       (None, None, 100)         2000000   \n",
      "                                                                 \n",
      " spatial_dropout1d (SpatialD  (None, None, 100)        0         \n",
      " ropout1D)                                                       \n",
      "                                                                 \n",
      " bidirectional (Bidirectiona  (None, 200)              160800    \n",
      " l)                                                              \n",
      "                                                                 \n",
      " dense (Dense)               (None, 2)                 402       \n",
      "                                                                 \n",
      "=================================================================\n",
      "Total params: 2,161,202\n",
      "Trainable params: 2,161,202\n",
      "Non-trainable params: 0\n",
      "_________________________________________________________________\n"
     ]
    }
   ],
   "source": [
    "model = Sequential()\n",
    "\n",
    "model.add(Embedding(MAX_NB_WORDS,EMBEDDING_DIM))\n",
    "model.add(SpatialDropout1D(0.2))\n",
    "model.add(Bidirectional(LSTM(EMBEDDING_DIM)))\n",
    "model.add(Dense(2,activation='softmax'))\n",
    "\n",
    "model.summary()"
   ]
  },
  {
   "cell_type": "code",
   "execution_count": 18,
   "metadata": {},
   "outputs": [
    {
     "name": "stdout",
     "output_type": "stream",
     "text": [
      "Epoch 1/10\n",
      "368/368 - 140s - loss: 0.3521 - accuracy: 0.8428 - val_loss: 0.2638 - val_accuracy: 0.8868 - 140s/epoch - 381ms/step\n",
      "Epoch 2/10\n",
      "368/368 - 255s - loss: 0.1453 - accuracy: 0.9465 - val_loss: 0.2837 - val_accuracy: 0.8875 - 255s/epoch - 692ms/step\n",
      "Epoch 3/10\n",
      "368/368 - 185s - loss: 0.0607 - accuracy: 0.9804 - val_loss: 0.3453 - val_accuracy: 0.8646 - 185s/epoch - 504ms/step\n",
      "Epoch 4/10\n",
      "368/368 - 110s - loss: 0.0286 - accuracy: 0.9910 - val_loss: 0.4367 - val_accuracy: 0.8761 - 110s/epoch - 298ms/step\n"
     ]
    }
   ],
   "source": [
    "optimizer = Adam(learning_rate=LR, decay=DECAY)\n",
    "model.compile(\n",
    "    loss='sparse_categorical_crossentropy',\n",
    "    optimizer=optimizer,\n",
    "    metrics=['accuracy'],\n",
    ")\n",
    "\n",
    "num_epochs = 10\n",
    "history = model.fit(\n",
    "    x_train_padded, y_train,\n",
    "    epochs=num_epochs,\n",
    "    validation_split=0.1,\n",
    "    callbacks=[EarlyStopping(monitor='val_loss', patience=3, min_delta=0.0001)],\n",
    "    verbose=2)"
   ]
  },
  {
   "cell_type": "code",
   "execution_count": 19,
   "metadata": {},
   "outputs": [
    {
     "name": "stdout",
     "output_type": "stream",
     "text": [
      "103/103 [==============================] - 7s 72ms/step - loss: 0.4451 - accuracy: 0.8690\n",
      "Test set\n",
      "  Loss: 0.445\n",
      "  Accuracy: 0.869\n"
     ]
    }
   ],
   "source": [
    "accr = model.evaluate(x_test_padded,y_test)\n",
    "print('Test set\\n  Loss: {:0.3f}\\n  Accuracy: {:0.3f}'.format(accr[0],accr[1]))"
   ]
  },
  {
   "cell_type": "code",
   "execution_count": 20,
   "metadata": {},
   "outputs": [
    {
     "data": {
      "image/png": "[encoded data removed]",
      "text/plain": [
       "<Figure size 432x288 with 1 Axes>"
      ]
     },
     "metadata": {
      "needs_background": "light"
     },
     "output_type": "display_data"
    },
    {
     "data": {
      "image/png": "[encoded data removed]",
      "text/plain": [
       "<Figure size 432x288 with 1 Axes>"
      ]
     },
     "metadata": {
      "needs_background": "light"
     },
     "output_type": "display_data"
    }
   ],
   "source": [
    "plt.title('Loss')\n",
    "plt.plot(history.history['loss'], label='train')\n",
    "plt.plot(history.history['val_loss'], label='test')\n",
    "plt.legend()\n",
    "plt.show()\n",
    "plt.title('Accuracy')\n",
    "plt.plot(history.history['accuracy'], label='train')\n",
    "plt.plot(history.history['val_accuracy'], label='test')\n",
    "plt.legend()\n",
    "plt.show()"
   ]
  },
  {
   "cell_type": "code",
   "execution_count": 59,
   "metadata": {},
   "outputs": [
    {
     "name": "stdout",
     "output_type": "stream",
     "text": [
      "Text: 25 year man killed over petty argument in Ghat Kopar\n",
      "Label: Crime\n",
      "Confidence: 99.99748468399048\n",
      "\n",
      "Text: Kartik Aaryan-Kiara Adwani Satya Prem ki Katha gets release date\n",
      "Label: Non-Crime\n",
      "Confidence: 99.9968409538269\n",
      "\n",
      "Text: She stole my heart\n",
      "Label: Non-Crime\n",
      "Confidence: 87.29722499847412\n",
      "\n",
      "Text: Man stole 5 sheep for wool\n",
      "Label: Crime\n",
      "Confidence: 78.90359163284302\n",
      "\n"
     ]
    }
   ],
   "source": [
    "complaints = ['25 year man killed over petty argument in Ghat Kopar',\n",
    "              'Kartik Aaryan-Kiara Adwani Satya Prem ki Katha gets release date',\n",
    "              'She stole my heart',\n",
    "              'Man stole 5 sheep for wool']\n",
    "pre_complaints = preprocess_x(complaints)\n",
    "padded = tokenise(tokenizer, pre_complaints)\n",
    "preds = model.predict(padded)\n",
    "for idx in range(len(preds)):\n",
    "    print(f'Text: {complaints[idx]}')\n",
    "    print(f'Label: {label_ids[np.argmax(preds[idx])]}')\n",
    "    print(f'Confidence: {preds[idx][np.argmax(preds[idx])] * 100}')\n",
    "    print()"
   ]
  }
 ],
 "metadata": {
  "kernelspec": {
   "display_name": "Python 3.9.13 64-bit (windows store)",
   "language": "python",
   "name": "python3"
  },
  "language_info": {
   "codemirror_mode": {
    "name": "ipython",
    "version": 3
   },
   "file_extension": ".py",
   "mimetype": "text/x-python",
   "name": "python",
   "nbconvert_exporter": "python",
   "pygments_lexer": "ipython3",
   "version": "3.9.13"
  },
  "orig_nbformat": 4,
  "vscode": {
   "interpreter": {
    "hash": "5b6d47590f999a800716eb982ff21d5a6775fcf2e01ec0861991d54625e34c1b"
   }
  }
 },
 "nbformat": 4,
 "nbformat_minor": 2
}
