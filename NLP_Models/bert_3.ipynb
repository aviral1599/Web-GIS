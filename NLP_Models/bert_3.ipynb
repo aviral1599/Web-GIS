{
 "cells": [
  {
   "cell_type": "code",
   "execution_count": null,
   "metadata": {},
   "outputs": [],
   "source": []
  }
 ],
 "metadata": {
  "kernelspec": {
   "display_name": "Python 3",
   "language": "python",
   "name": "python3"
  },
  "language_info": {
   "name": "python",
   "version": "3.10.7 (tags/v3.10.7:6cc6b13, Sep  5 2022, 14:08:36) [MSC v.1933 64 bit (AMD64)]"
  },
  "orig_nbformat": 4,
  "vscode": {
   "interpreter": {
    "hash": "b2194765557e7725c290a7683d2eb603dfddc015f92c1157854921e6d1191a2e"
   }
  }
 },
 "nbformat": 4,
 "nbformat_minor": 2
}
