{
 "cells": [
  {
   "cell_type": "code",
   "execution_count": 1,
   "metadata": {},
   "outputs": [],
   "source": [
    "import re\n",
    "import pandas as pd\n",
    "import seaborn as sns\n",
    "from matplotlib import pyplot as plt"
   ]
  },
  {
   "cell_type": "code",
   "execution_count": 2,
   "metadata": {},
   "outputs": [
    {
     "name": "stdout",
     "output_type": "stream",
     "text": [
      "                                                    Title  Label\n",
      "count                                               16864  16864\n",
      "unique                                              16330      2\n",
      "top     FIFA takes on EA Sports video game in soccer’s...  Crime\n",
      "freq                                                    4   8641\n"
     ]
    }
   ],
   "source": [
    "train_df = pd.read_excel(\"../Scrapper_New/Data_Files/Final/CrimevsNonCrime.xlsx\")\n",
    "print(train_df.describe())"
   ]
  },
  {
   "cell_type": "code",
   "execution_count": 3,
   "metadata": {},
   "outputs": [
    {
     "ename": "TypeError",
     "evalue": "xlabel() missing 1 required positional argument: 'xlabel'",
     "output_type": "error",
     "traceback": [
      "\u001b[1;31m---------------------------------------------------------------------------\u001b[0m",
      "\u001b[1;31mTypeError\u001b[0m                                 Traceback (most recent call last)",
      "\u001b[1;32m~\\AppData\\Local\\Temp/ipykernel_17016/3311594445.py\u001b[0m in \u001b[0;36m<module>\u001b[1;34m\u001b[0m\n\u001b[0;32m      4\u001b[0m \u001b[1;31m# sns.barplot(x=label_counts.index, y=label_counts)\u001b[0m\u001b[1;33m\u001b[0m\u001b[1;33m\u001b[0m\u001b[1;33m\u001b[0m\u001b[0m\n\u001b[0;32m      5\u001b[0m \u001b[0mplt\u001b[0m\u001b[1;33m.\u001b[0m\u001b[0mbar\u001b[0m\u001b[1;33m(\u001b[0m\u001b[0mlabel_counts\u001b[0m\u001b[1;33m.\u001b[0m\u001b[0mindex\u001b[0m\u001b[1;33m,\u001b[0m \u001b[0mlabel_counts\u001b[0m\u001b[1;33m,\u001b[0m \u001b[0mcolor\u001b[0m\u001b[1;33m=\u001b[0m\u001b[1;33m[\u001b[0m\u001b[1;34m'red'\u001b[0m\u001b[1;33m,\u001b[0m \u001b[1;34m'green'\u001b[0m\u001b[1;33m]\u001b[0m\u001b[1;33m)\u001b[0m\u001b[1;33m\u001b[0m\u001b[1;33m\u001b[0m\u001b[0m\n\u001b[1;32m----> 6\u001b[1;33m \u001b[0mplt\u001b[0m\u001b[1;33m.\u001b[0m\u001b[0mxlabel\u001b[0m\u001b[1;33m(\u001b[0m\u001b[1;33m)\u001b[0m\u001b[1;33m\u001b[0m\u001b[1;33m\u001b[0m\u001b[0m\n\u001b[0m\u001b[0;32m      7\u001b[0m \u001b[0mplt\u001b[0m\u001b[1;33m.\u001b[0m\u001b[0mshow\u001b[0m\u001b[1;33m(\u001b[0m\u001b[1;33m)\u001b[0m\u001b[1;33m\u001b[0m\u001b[1;33m\u001b[0m\u001b[0m\n",
      "\u001b[1;31mTypeError\u001b[0m: xlabel() missing 1 required positional argument: 'xlabel'"
     ]
    },
    {
     "data": {
      "image/png": "[encoded data removed]",
      "text/plain": [
       "<Figure size 432x288 with 1 Axes>"
      ]
     },
     "metadata": {
      "needs_background": "light"
     },
     "output_type": "display_data"
    }
   ],
   "source": [
    "filtered_df = pd.DataFrame(columns=['text', 'label'])\n",
    "filtered_df['label'] = ((pd.Categorical(train_df.Label).codes).astype(int))\n",
    "label_counts = train_df['Label'].value_counts()\n",
    "# sns.barplot(x=label_counts.index, y=label_counts)\n",
    "plt.bar(label_counts.index, label_counts, color=['red', 'green'])\n",
    "plt.xlabel('Count')\n",
    "plt.ylabel()\n",
    "plt.show()\n"
   ]
  },
  {
   "cell_type": "code",
   "execution_count": 29,
   "metadata": {},
   "outputs": [
    {
     "name": "stdout",
     "output_type": "stream",
     "text": [
      "                                                text  label\n",
      "0  minor raped by cop in jharkhands hazaribagh ac...      0\n",
      "1  saw my brother getting killed bhilwara victims...      0\n",
      "2  delhi police arrests burglar recovers huge qua...      0\n",
      "3  pregnant woman raped by hospital staff in ups ...      0\n",
      "4  muzaffarpur yearold girl thrashed gangraped ac...      0\n"
     ]
    }
   ],
   "source": [
    "new_text_list = []\n",
    "for entry in train_df['Title']:\n",
    "    new_text = re.sub(\"[^a-zA-Z ]\", \"\", entry)\n",
    "    new_text = \" \".join(new_text.lower().split())\n",
    "    new_text_list.append(new_text)\n",
    "filtered_df['text'] = new_text_list\n"
   ]
  }
 ],
 "metadata": {
  "kernelspec": {
   "display_name": "Python 3 (ipykernel)",
   "language": "python",
   "name": "python3"
  },
  "language_info": {
   "codemirror_mode": {
    "name": "ipython",
    "version": 3
   },
   "file_extension": ".py",
   "mimetype": "text/x-python",
   "name": "python",
   "nbconvert_exporter": "python",
   "pygments_lexer": "ipython3",
   "version": "3.9.6"
  },
  "vscode": {
   "interpreter": {
    "hash": "30fa04032aebd2312b426238ddbfe76e272410658ea3a88c02ce51e063c35827"
   }
  }
 },
 "nbformat": 4,
 "nbformat_minor": 2
}
