{
 "cells": [
  {
   "cell_type": "code",
   "execution_count": null,
   "id": "309df04a",
   "metadata": {},
   "outputs": [],
   "source": [
    "import pandas as pd\n",
    "import seaborn as sns\n",
    "from sklearn.model_selection import train_test_split\n",
    "# import numpy as np\n",
    "# import re, string\n",
    "# import nltk\n",
    "# from nltk.tokenize import word_tokenize\n",
    "# from nltk.corpus import stopwords\n",
    "# from nltk.tokenize import word_tokenize\n",
    "# from nltk.stem import SnowballStemmer\n",
    "# from nltk.corpus import wordnet\n",
    "# from nltk.stem import WordNetLemmatizer"
   ]
  },
  {
   "cell_type": "code",
   "execution_count": null,
   "id": "fdf5a825",
   "metadata": {},
   "outputs": [],
   "source": [
    "df = pd.read_excel(\"../Scrapper_New/Data_Files/Final/CrimevsNonCrime.xlsx\")\n",
    "df_y = ((pd.Categorical(df.Label).codes).astype(int))\n",
    "df.head"
   ]
  },
  {
   "cell_type": "code",
   "execution_count": null,
   "id": "359a6000",
   "metadata": {},
   "outputs": [],
   "source": [
    "X_train, X_test, Y_train, Y_test = train_test_split(df['Title'], df_y, test_size=0.2, random_state=42)\n",
    "print(X_train)"
   ]
  },
  {
   "cell_type": "code",
   "execution_count": null,
   "id": "879ea25f",
   "metadata": {},
   "outputs": [
    {
     "name": "stdout",
     "output_type": "stream",
     "text": [
      " Dubey encounter: Ex-judge B S Chauhan to head inquiry panel, complete probe in 2 months, says SC                  2\n",
      "James Gunn gets engaged to The Suicide Squad actor Jennifer Holland: ‘Happiness’                                   2\n",
      " 32kg gold seized from Vande Bharat passengers in Jaipur                                                           2\n",
      " Day 32 of coronavirus lockdown: Ground report from Indian cities                                                  2\n",
      "Explained: What we know about South Korea’s new president Yoon Suk-yeol, and his proposed policies                 2\n",
      "                                                                                                                  ..\n",
      "Rajasthan man kills wife, son with iron rod over personal dispute                                                  1\n",
      "Jhund director Nagraj Manjule on Amitabh Bachchan’s influence on him: ‘Start of my love for cinema’                1\n",
      "PSY’s much-awaited That That feat BTS’ Suga becomes a phenomenon, tops charts in 73 countries. Watch               1\n",
      "Man beaten to death after he slaps person for urinating outside his house                                          1\n",
      "2 including suspended labour inspector held for cheating Panchkula man of Rs 4L on pretext of offering govt job    1\n",
      "Name: Title, Length: 3348, dtype: int64\n"
     ]
    },
    {
     "data": {
      "text/plain": [
       "<AxesSubplot:ylabel='Title'>"
      ]
     },
     "execution_count": 33,
     "metadata": {},
     "output_type": "execute_result"
    }
   ],
   "source": [
    "x=X_test.value_counts()\n",
    "print(x)\n",
    "sns.barplot(x=x.index,y=x)"
   ]
  },
  {
   "cell_type": "code",
   "execution_count": null,
   "id": "0a342118",
   "metadata": {},
   "outputs": [],
   "source": []
  }
 ],
 "metadata": {
  "kernelspec": {
   "display_name": "Python 3 (ipykernel)",
   "language": "python",
   "name": "python3"
  },
  "language_info": {
   "codemirror_mode": {
    "name": "ipython",
    "version": 3
   },
   "file_extension": ".py",
   "mimetype": "text/x-python",
   "name": "python",
   "nbconvert_exporter": "python",
   "pygments_lexer": "ipython3",
   "version": "3.9.6"
  }
 },
 "nbformat": 4,
 "nbformat_minor": 5
}
