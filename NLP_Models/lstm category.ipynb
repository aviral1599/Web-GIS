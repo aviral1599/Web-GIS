{
 "cells": [
  {
   "cell_type": "code",
   "execution_count": 1,
   "metadata": {},
   "outputs": [],
   "source": [
    "# %pip install nltk\n",
    "# %pip install numpy\n",
    "# %pip install spacy\n",
    "# %pip install pandas\n",
    "# %pip install sklearn\n",
    "# %pip install matplotlib\n",
    "# %pip install tensorflow\n",
    "# %pip install locationtagger\n",
    "# %python -m spacy download en_core_web_sm"
   ]
  },
  {
   "cell_type": "code",
   "execution_count": 2,
   "metadata": {},
   "outputs": [],
   "source": [
    "from preprocess import Custom_Preprocessor\n",
    "from location_extractor import get_locations, get_states_list\n",
    "\n",
    "import os\n",
    "import pickle\n",
    "import numpy as np\n",
    "import pandas as pd\n",
    "\n",
    "from matplotlib import pyplot as plt\n",
    "from tensorflow.keras.optimizers import Adam\n",
    "from tensorflow.keras.models import Sequential\n",
    "from tensorflow.keras.callbacks import EarlyStopping\n",
    "from sklearn.model_selection import train_test_split\n",
    "from tensorflow.keras.preprocessing.text import Tokenizer\n",
    "from tensorflow.keras.preprocessing.sequence import pad_sequences\n",
    "from tensorflow.keras.layers import Dense, Flatten, LSTM, Dropout, Activation, Embedding, Bidirectional, SpatialDropout1D"
   ]
  },
  {
   "cell_type": "code",
   "execution_count": 3,
   "metadata": {},
   "outputs": [],
   "source": [
    "# import nltk\n",
    "# import spacy\n",
    "# nltk.downloader.download('maxent_ne_chunker')\n",
    "# nltk.downloader.download('words')\n",
    "# nltk.downloader.download('treebank')\n",
    "# nltk.downloader.download('maxent_treebank_pos_tagger')\n",
    "# nltk.downloader.download('punkt')\n",
    "# nltk.download('averaged_perceptron_tagger')"
   ]
  },
  {
   "cell_type": "code",
   "execution_count": 4,
   "metadata": {},
   "outputs": [
    {
     "name": "stdout",
     "output_type": "stream",
     "text": [
      "<class 'pandas.core.frame.DataFrame'>\n",
      "RangeIndex: 49317 entries, 0 to 49316\n",
      "Data columns (total 2 columns):\n",
      " #   Column  Non-Null Count  Dtype \n",
      "---  ------  --------------  ----- \n",
      " 0   Title   49317 non-null  object\n",
      " 1   Type    49317 non-null  object\n",
      "dtypes: object(2)\n",
      "memory usage: 770.7+ KB\n",
      "None\n"
     ]
    }
   ],
   "source": [
    "train_df = pd.read_excel(\"..\\Category Data\\crime_type_data.xlsx\")\n",
    "print(train_df.info())"
   ]
  },
  {
   "cell_type": "code",
   "execution_count": 5,
   "metadata": {},
   "outputs": [
    {
     "name": "stdout",
     "output_type": "stream",
     "text": [
      "                                                    Title    Type\n",
      "count                                               49317   49317\n",
      "unique                                              48629       4\n",
      "top     #Bulandshahr: Class 12 girl kidnapped, raped a...  Murder\n",
      "freq                                                    4   29467\n",
      "All entries unique: False\n",
      "Null cells: 0\n"
     ]
    }
   ],
   "source": [
    "print(train_df.describe())\n",
    "\n",
    "print(f\"All entries unique: {train_df['Title'].nunique()==train_df.shape[0]}\")\n",
    "print(f\"Null cells: {train_df.isnull().sum().sum()}\")"
   ]
  },
  {
   "cell_type": "code",
   "execution_count": 6,
   "metadata": {},
   "outputs": [
    {
     "name": "stdout",
     "output_type": "stream",
     "text": [
      "All entries unique: True\n",
      "Null cells: 0\n"
     ]
    }
   ],
   "source": [
    "train_df.drop_duplicates(subset=['Title'], inplace=True, ignore_index=True, keep='first')\n",
    "\n",
    "print(f\"All entries unique: {train_df['Title'].nunique()==train_df.shape[0]}\")\n",
    "print(f\"Null cells: {train_df.isnull().sum().sum()}\")"
   ]
  },
  {
   "cell_type": "code",
   "execution_count": 7,
   "metadata": {},
   "outputs": [
    {
     "name": "stderr",
     "output_type": "stream",
     "text": [
      "[nltk_data] Downloading package stopwords to\n",
      "[nltk_data]     C:\\Users\\sgfri\\AppData\\Roaming\\nltk_data...\n",
      "[nltk_data]   Package stopwords is already up-to-date!\n"
     ]
    }
   ],
   "source": [
    "Preprocessor = Custom_Preprocessor()"
   ]
  },
  {
   "cell_type": "code",
   "execution_count": 8,
   "metadata": {},
   "outputs": [
    {
     "name": "stdout",
     "output_type": "stream",
     "text": [
      "Label IDs\n",
      "{0: 'Kidnap', 1: 'Murder', 2: 'Rape', 3: 'Theft'}\n",
      "   index                                               text  label  \\\n",
      "0      0  delhi heinous crimes per cent cases reported t...      0   \n",
      "1      1  missing teenager found dead family attacks pol...      0   \n",
      "2      2  indian american man fails bring kid back us co...      0   \n",
      "3      3  kidnapping case rubaiya sayeed mehbooba mufti ...      0   \n",
      "4      4  bihar veterinary called check animal kidnapped...      0   \n",
      "\n",
      "   word_count label_name         location  \n",
      "0           9     Kidnap   [nct of delhi]  \n",
      "1           9     Kidnap  [uttar pradesh]  \n",
      "2          12     Kidnap             None  \n",
      "3          12     Kidnap             None  \n",
      "4           8     Kidnap          [bihar]  \n"
     ]
    }
   ],
   "source": [
    "filtered_df = pd.DataFrame(columns=['text', 'label', 'word_count', 'label_name', 'location'])\n",
    "\n",
    "filtered_df['label_name'] = pd.Series(pd.Categorical(train_df['Type']))\n",
    "filtered_df['label'] = (pd.Categorical(filtered_df['label_name']).codes).astype(int)\n",
    "label_ids = dict(enumerate(filtered_df['label_name'].cat.categories))\n",
    "\n",
    "print(\"Label IDs\")\n",
    "print(label_ids)\n",
    "\n",
    "filtered_df['text'], filtered_df['word_count'] = Preprocessor.preprocess_data_x(train_df['Title'], get_word_count=True)\n",
    "filtered_df = filtered_df[filtered_df['word_count']>2]\n",
    "filtered_df.reset_index(inplace=True)\n",
    "filtered_df['location']=get_locations(filtered_df['text'], get_state_of_cities=True)\n",
    "\n",
    "print(filtered_df.head())"
   ]
  },
  {
   "cell_type": "code",
   "execution_count": 9,
   "metadata": {},
   "outputs": [
    {
     "name": "stdout",
     "output_type": "stream",
     "text": [
      "Text: Delhi: Heinous crimes up over 13 per cent, 3,140 cases reported till July 2022\n",
      "Location: ['nct of delhi']\n",
      "Text: Missing teenager found dead, family attacks police team in UP's Badaun\n",
      "Location: ['uttar pradesh']\n",
      "Text: Indian-American man fails to bring kid back to US, convicted of international parental kidnapping\n",
      "Location: None\n",
      "Text: 1989 kidnapping case: Rubaiya Sayeed, Mehbooba Mufti's sister identifies Yasin Malik among 4 accused\n",
      "Location: None\n",
      "Text: Bihar: Veterinary called to check on animal, kidnapped and married off forcibly\n",
      "Location: ['bihar']\n"
     ]
    }
   ],
   "source": [
    "for i in range(len(filtered_df.head())):\n",
    "    print(f'Text: {train_df.loc[i, \"Title\"]}\\nLocation: {filtered_df.loc[i, \"location\"]}')"
   ]
  },
  {
   "cell_type": "code",
   "execution_count": 10,
   "metadata": {},
   "outputs": [],
   "source": [
    "api_df_columns = list(label_ids.values())+['Total']\n",
    "states = get_states_list()\n",
    "state_map = {key.lower(): key for key in states}\n",
    "sec_dict = {key: 0 for key in api_df_columns}\n",
    "api_dict = {key: sec_dict.copy() for key in states}\n",
    "\n",
    "for i in range(len(filtered_df)):\n",
    "    if filtered_df.loc[i, 'location'] is not None:\n",
    "        category = filtered_df.loc[i,'label_name']\n",
    "        for location in filtered_df.loc[i, 'location']:\n",
    "            api_dict[state_map[location]][category] +=1\n",
    "            api_dict[state_map[location]]['Total'] +=1\n",
    "\n",
    "api_df = pd.DataFrame.from_dict(api_dict, orient='index')"
   ]
  },
  {
   "cell_type": "code",
   "execution_count": 11,
   "metadata": {},
   "outputs": [],
   "source": [
    "filtered_df.to_excel(\"..\\Category Data\\crime_type_data_filtered.xlsx\", index=False)\n",
    "api_df.to_excel(\"..\\Category Data/api_data_processed.xlsx\")"
   ]
  },
  {
   "cell_type": "code",
   "execution_count": 12,
   "metadata": {},
   "outputs": [
    {
     "name": "stdout",
     "output_type": "stream",
     "text": [
      "Murder    29411\n",
      "Rape      10353\n",
      "Theft      4524\n",
      "Kidnap     4341\n",
      "Name: Type, dtype: int64\n"
     ]
    },
    {
     "data": {
      "image/png": "[encoded data removed]",
      "text/plain": [
       "<Figure size 800x600 with 1 Axes>"
      ]
     },
     "metadata": {},
     "output_type": "display_data"
    },
    {
     "name": "stdout",
     "output_type": "stream",
     "text": [
      "Average Word count: 14.800123418697932\n",
      "        Max Word Count: 47\n",
      "        Min Word Count: 3\n"
     ]
    },
    {
     "data": {
      "image/png": "[encoded data removed]",
      "text/plain": [
       "<Figure size 800x600 with 1 Axes>"
      ]
     },
     "metadata": {},
     "output_type": "display_data"
    }
   ],
   "source": [
    "label_counts = train_df['Type'].value_counts()\n",
    "print(label_counts)\n",
    "\n",
    "plt.figure(figsize=(8, 6))\n",
    "plt.bar(label_counts.index, label_counts, color=['red', 'green'])\n",
    "plt.ylabel('Count')\n",
    "plt.xlabel('Label')\n",
    "plt.title('Data Balance')\n",
    "plt.show()\n",
    "\n",
    "print(f'Average Word count: {np.average(filtered_df[\"word_count\"])}\\n\\\n",
    "        Max Word Count: {max(filtered_df[\"word_count\"])}\\n\\\n",
    "        Min Word Count: {min(filtered_df[\"word_count\"])}')\n",
    "\n",
    "plt.figure(figsize=(8, 6))\n",
    "plt.hist(filtered_df['word_count'],color='red')\n",
    "plt.title('Word count')\n",
    "plt.xlabel('Word_count')\n",
    "plt.ylabel('Entry_Count')\n",
    "plt.show()"
   ]
  },
  {
   "cell_type": "code",
   "execution_count": 13,
   "metadata": {},
   "outputs": [],
   "source": [
    "MAX_NB_WORDS = 75000\n",
    "MAX_SEQUENCE_LENGTH = max(filtered_df[\"word_count\"])\n",
    "EMBEDDING_DIM = 10\n",
    "OOV_TOK= '<OOV>'\n",
    "\n",
    "TEST_SIZE = 0.4\n",
    "VALIDATION_SIZE = 0.2\n",
    "LR = 0.000075\n",
    "DECAY = 1e-6\n",
    "NUM_EPOCH = 500\n",
    "BATCH_SIZE = 150\n",
    "MIN_CONFIDENCE = 0.65"
   ]
  },
  {
   "cell_type": "code",
   "execution_count": 14,
   "metadata": {},
   "outputs": [],
   "source": [
    "Preprocessor.set_max_seq_length(MAX_SEQUENCE_LENGTH)"
   ]
  },
  {
   "cell_type": "code",
   "execution_count": 15,
   "metadata": {},
   "outputs": [
    {
     "data": {
      "image/png": "[encoded data removed]",
      "text/plain": [
       "<Figure size 400x300 with 1 Axes>"
      ]
     },
     "metadata": {},
     "output_type": "display_data"
    },
    {
     "data": {
      "image/png": "[encoded data removed]",
      "text/plain": [
       "<Figure size 400x300 with 1 Axes>"
      ]
     },
     "metadata": {},
     "output_type": "display_data"
    },
    {
     "data": {
      "image/png": "[encoded data removed]",
      "text/plain": [
       "<Figure size 400x300 with 1 Axes>"
      ]
     },
     "metadata": {},
     "output_type": "display_data"
    }
   ],
   "source": [
    "x_train_val,x_test,y_train_val,y_test = train_test_split(filtered_df['text'], filtered_df['label'], test_size=TEST_SIZE,shuffle=True)\n",
    "x_train,x_val,y_train,y_val = train_test_split(x_train_val, y_train_val, test_size=VALIDATION_SIZE,shuffle=True)\n",
    "\n",
    "train_label_counts = y_train.value_counts()\n",
    "test_label_counts = y_test.value_counts()\n",
    "val_label_counts = y_val.value_counts()\n",
    "\n",
    "plt.figure(figsize=(4, 3))\n",
    "plt.bar(train_label_counts.index, train_label_counts, color=['red', 'green'])\n",
    "plt.ylabel('Count')\n",
    "plt.xlabel('Label')\n",
    "plt.title('Train Data Balance')\n",
    "plt.show()\n",
    "plt.figure(figsize=(4, 3))\n",
    "plt.bar(test_label_counts.index, test_label_counts, color=['red', 'green'])\n",
    "plt.ylabel('Count')\n",
    "plt.xlabel('Label')\n",
    "plt.title('Test Data Balance')\n",
    "plt.show()\n",
    "plt.figure(figsize=(4, 3))\n",
    "plt.bar(val_label_counts.index, val_label_counts, color=['red', 'green'])\n",
    "plt.ylabel('Count')\n",
    "plt.xlabel('Label')\n",
    "plt.title('Validation Data Balance')\n",
    "plt.show()"
   ]
  },
  {
   "cell_type": "code",
   "execution_count": 16,
   "metadata": {},
   "outputs": [
    {
     "name": "stdout",
     "output_type": "stream",
     "text": [
      "Total Entries/Tweets: 48615\n",
      "        Total Tokens: 72306\n",
      "        Token Limit: 75000\n"
     ]
    }
   ],
   "source": [
    "tokenizer = Tokenizer(num_words = MAX_NB_WORDS, oov_token=OOV_TOK)\n",
    "tokenizer.fit_on_texts(filtered_df['text'])\n",
    "print(f'Total Entries/Tweets: {len(filtered_df)}\\n\\\n",
    "        Total Tokens: {len(tokenizer.word_index)}\\n\\\n",
    "        Token Limit: {MAX_NB_WORDS}')\n",
    "\n",
    "x_train_padded = Preprocessor.tokenise(tokenizer, x_train)\n",
    "x_test_padded = Preprocessor.tokenise(tokenizer, x_test)\n",
    "x_val_padded = Preprocessor.tokenise(tokenizer, x_val)"
   ]
  },
  {
   "cell_type": "code",
   "execution_count": 17,
   "metadata": {},
   "outputs": [
    {
     "name": "stdout",
     "output_type": "stream",
     "text": [
      "Model: \"sequential\"\n",
      "_________________________________________________________________\n",
      " Layer (type)                Output Shape              Param #   \n",
      "=================================================================\n",
      " embedding (Embedding)       (None, None, 10)          750000    \n",
      "                                                                 \n",
      " spatial_dropout1d (SpatialD  (None, None, 10)         0         \n",
      " ropout1D)                                                       \n",
      "                                                                 \n",
      " bidirectional (Bidirectiona  (None, 20)               1680      \n",
      " l)                                                              \n",
      "                                                                 \n",
      " dense (Dense)               (None, 4)                 84        \n",
      "                                                                 \n",
      "=================================================================\n",
      "Total params: 751,764\n",
      "Trainable params: 751,764\n",
      "Non-trainable params: 0\n",
      "_________________________________________________________________\n"
     ]
    }
   ],
   "source": [
    "model = Sequential()\n",
    "\n",
    "model.add(Embedding(MAX_NB_WORDS,EMBEDDING_DIM))\n",
    "model.add(SpatialDropout1D(0.2))\n",
    "model.add(Bidirectional(LSTM(EMBEDDING_DIM)))\n",
    "model.add(Dense(4,activation='softmax'))\n",
    "\n",
    "model.summary()"
   ]
  },
  {
   "cell_type": "code",
   "execution_count": 72,
   "metadata": {},
   "outputs": [
    {
     "name": "stdout",
     "output_type": "stream",
     "text": [
      "Epoch 1/500\n",
      "156/156 - 7s - loss: 1.3529 - accuracy: 0.5835 - val_loss: 1.3137 - val_accuracy: 0.6003 - 7s/epoch - 44ms/step\n",
      "Epoch 2/500\n",
      "156/156 - 4s - loss: 1.2387 - accuracy: 0.6028 - val_loss: 1.1493 - val_accuracy: 0.6003 - 4s/epoch - 25ms/step\n",
      "Epoch 3/500\n",
      "156/156 - 4s - loss: 1.0899 - accuracy: 0.6028 - val_loss: 1.0748 - val_accuracy: 0.6003 - 4s/epoch - 26ms/step\n",
      "Epoch 4/500\n",
      "156/156 - 4s - loss: 1.0597 - accuracy: 0.6028 - val_loss: 1.0606 - val_accuracy: 0.6003 - 4s/epoch - 27ms/step\n",
      "Epoch 5/500\n",
      "156/156 - 4s - loss: 1.0421 - accuracy: 0.6028 - val_loss: 1.0385 - val_accuracy: 0.6003 - 4s/epoch - 25ms/step\n",
      "Epoch 6/500\n",
      "156/156 - 4s - loss: 1.0099 - accuracy: 0.6028 - val_loss: 0.9934 - val_accuracy: 0.6003 - 4s/epoch - 25ms/step\n",
      "Epoch 7/500\n",
      "156/156 - 4s - loss: 0.9526 - accuracy: 0.6028 - val_loss: 0.9235 - val_accuracy: 0.6003 - 4s/epoch - 26ms/step\n",
      "Epoch 8/500\n",
      "156/156 - 4s - loss: 0.8919 - accuracy: 0.6038 - val_loss: 0.8711 - val_accuracy: 0.6035 - 4s/epoch - 27ms/step\n",
      "Epoch 9/500\n",
      "156/156 - 4s - loss: 0.8416 - accuracy: 0.6172 - val_loss: 0.8312 - val_accuracy: 0.6304 - 4s/epoch - 25ms/step\n",
      "Epoch 10/500\n",
      "156/156 - 4s - loss: 0.7998 - accuracy: 0.6523 - val_loss: 0.7966 - val_accuracy: 0.6656 - 4s/epoch - 24ms/step\n",
      "Epoch 11/500\n",
      "156/156 - 4s - loss: 0.7649 - accuracy: 0.6890 - val_loss: 0.7677 - val_accuracy: 0.6997 - 4s/epoch - 24ms/step\n",
      "Epoch 12/500\n",
      "156/156 - 4s - loss: 0.7332 - accuracy: 0.7184 - val_loss: 0.7429 - val_accuracy: 0.7223 - 4s/epoch - 25ms/step\n",
      "Epoch 13/500\n",
      "156/156 - 4s - loss: 0.7064 - accuracy: 0.7409 - val_loss: 0.7232 - val_accuracy: 0.7293 - 4s/epoch - 25ms/step\n",
      "Epoch 14/500\n",
      "156/156 - 4s - loss: 0.6808 - accuracy: 0.7528 - val_loss: 0.7054 - val_accuracy: 0.7364 - 4s/epoch - 25ms/step\n",
      "Epoch 15/500\n",
      "156/156 - 4s - loss: 0.6589 - accuracy: 0.7608 - val_loss: 0.6916 - val_accuracy: 0.7379 - 4s/epoch - 25ms/step\n",
      "Epoch 16/500\n",
      "156/156 - 4s - loss: 0.6405 - accuracy: 0.7639 - val_loss: 0.6756 - val_accuracy: 0.7444 - 4s/epoch - 25ms/step\n",
      "Epoch 17/500\n",
      "156/156 - 4s - loss: 0.6210 - accuracy: 0.7693 - val_loss: 0.6640 - val_accuracy: 0.7465 - 4s/epoch - 25ms/step\n",
      "Epoch 18/500\n",
      "156/156 - 4s - loss: 0.6033 - accuracy: 0.7718 - val_loss: 0.6534 - val_accuracy: 0.7467 - 4s/epoch - 24ms/step\n",
      "Epoch 19/500\n",
      "156/156 - 4s - loss: 0.5881 - accuracy: 0.7732 - val_loss: 0.6422 - val_accuracy: 0.7484 - 4s/epoch - 24ms/step\n",
      "Epoch 20/500\n",
      "156/156 - 4s - loss: 0.5734 - accuracy: 0.7755 - val_loss: 0.6321 - val_accuracy: 0.7494 - 4s/epoch - 25ms/step\n",
      "Epoch 21/500\n",
      "156/156 - 4s - loss: 0.5568 - accuracy: 0.7771 - val_loss: 0.6232 - val_accuracy: 0.7497 - 4s/epoch - 24ms/step\n",
      "Epoch 22/500\n",
      "156/156 - 4s - loss: 0.5431 - accuracy: 0.7788 - val_loss: 0.6175 - val_accuracy: 0.7475 - 4s/epoch - 24ms/step\n",
      "Epoch 23/500\n",
      "156/156 - 4s - loss: 0.5261 - accuracy: 0.7809 - val_loss: 0.6012 - val_accuracy: 0.7503 - 4s/epoch - 26ms/step\n",
      "Epoch 24/500\n",
      "156/156 - 4s - loss: 0.5102 - accuracy: 0.7825 - val_loss: 0.5927 - val_accuracy: 0.7516 - 4s/epoch - 25ms/step\n",
      "Epoch 25/500\n",
      "156/156 - 4s - loss: 0.4940 - accuracy: 0.7914 - val_loss: 0.5780 - val_accuracy: 0.7588 - 4s/epoch - 25ms/step\n",
      "Epoch 26/500\n",
      "156/156 - 4s - loss: 0.4790 - accuracy: 0.8087 - val_loss: 0.5634 - val_accuracy: 0.7731 - 4s/epoch - 28ms/step\n",
      "Epoch 27/500\n",
      "156/156 - 4s - loss: 0.4495 - accuracy: 0.8290 - val_loss: 0.5254 - val_accuracy: 0.8031 - 4s/epoch - 25ms/step\n",
      "Epoch 28/500\n",
      "156/156 - 4s - loss: 0.4047 - accuracy: 0.8501 - val_loss: 0.5061 - val_accuracy: 0.8080 - 4s/epoch - 28ms/step\n",
      "Epoch 29/500\n",
      "156/156 - 4s - loss: 0.3844 - accuracy: 0.8538 - val_loss: 0.4966 - val_accuracy: 0.8109 - 4s/epoch - 27ms/step\n",
      "Epoch 30/500\n",
      "156/156 - 4s - loss: 0.3666 - accuracy: 0.8569 - val_loss: 0.4977 - val_accuracy: 0.8108 - 4s/epoch - 25ms/step\n",
      "Epoch 31/500\n",
      "156/156 - 4s - loss: 0.3550 - accuracy: 0.8587 - val_loss: 0.4928 - val_accuracy: 0.8128 - 4s/epoch - 24ms/step\n",
      "Epoch 32/500\n",
      "156/156 - 4s - loss: 0.3453 - accuracy: 0.8612 - val_loss: 0.4902 - val_accuracy: 0.8109 - 4s/epoch - 24ms/step\n",
      "Epoch 33/500\n",
      "156/156 - 4s - loss: 0.3362 - accuracy: 0.8621 - val_loss: 0.4811 - val_accuracy: 0.8116 - 4s/epoch - 24ms/step\n",
      "Epoch 34/500\n",
      "156/156 - 4s - loss: 0.3269 - accuracy: 0.8659 - val_loss: 0.4936 - val_accuracy: 0.8140 - 4s/epoch - 24ms/step\n",
      "Epoch 35/500\n",
      "156/156 - 4s - loss: 0.3191 - accuracy: 0.8670 - val_loss: 0.4861 - val_accuracy: 0.8125 - 4s/epoch - 24ms/step\n",
      "Epoch 36/500\n",
      "156/156 - 4s - loss: 0.3138 - accuracy: 0.8667 - val_loss: 0.4842 - val_accuracy: 0.8137 - 4s/epoch - 24ms/step\n",
      "Epoch 37/500\n",
      "156/156 - 4s - loss: 0.3053 - accuracy: 0.8706 - val_loss: 0.4970 - val_accuracy: 0.8159 - 4s/epoch - 25ms/step\n",
      "Epoch 38/500\n",
      "156/156 - 4s - loss: 0.3019 - accuracy: 0.8707 - val_loss: 0.4703 - val_accuracy: 0.8145 - 4s/epoch - 26ms/step\n",
      "Epoch 39/500\n",
      "156/156 - 4s - loss: 0.2965 - accuracy: 0.8730 - val_loss: 0.4866 - val_accuracy: 0.8180 - 4s/epoch - 24ms/step\n",
      "Epoch 40/500\n",
      "156/156 - 4s - loss: 0.2920 - accuracy: 0.8748 - val_loss: 0.4749 - val_accuracy: 0.8174 - 4s/epoch - 26ms/step\n",
      "Epoch 41/500\n",
      "156/156 - 4s - loss: 0.2831 - accuracy: 0.8789 - val_loss: 0.4737 - val_accuracy: 0.8173 - 4s/epoch - 26ms/step\n",
      "Epoch 42/500\n",
      "156/156 - 4s - loss: 0.2800 - accuracy: 0.8789 - val_loss: 0.4719 - val_accuracy: 0.8186 - 4s/epoch - 26ms/step\n",
      "Epoch 43/500\n",
      "156/156 - 4s - loss: 0.2766 - accuracy: 0.8798 - val_loss: 0.4757 - val_accuracy: 0.8195 - 4s/epoch - 26ms/step\n",
      "Epoch 44/500\n",
      "156/156 - 4s - loss: 0.2704 - accuracy: 0.8833 - val_loss: 0.4789 - val_accuracy: 0.8204 - 4s/epoch - 27ms/step\n",
      "Epoch 45/500\n",
      "156/156 - 4s - loss: 0.2672 - accuracy: 0.8852 - val_loss: 0.4758 - val_accuracy: 0.8207 - 4s/epoch - 26ms/step\n",
      "Epoch 46/500\n",
      "156/156 - 4s - loss: 0.2640 - accuracy: 0.8883 - val_loss: 0.4892 - val_accuracy: 0.8214 - 4s/epoch - 25ms/step\n",
      "Epoch 47/500\n",
      "156/156 - 4s - loss: 0.2586 - accuracy: 0.8912 - val_loss: 0.4896 - val_accuracy: 0.8236 - 4s/epoch - 27ms/step\n",
      "Epoch 48/500\n",
      "156/156 - 4s - loss: 0.2568 - accuracy: 0.8933 - val_loss: 0.4820 - val_accuracy: 0.8228 - 4s/epoch - 25ms/step\n",
      "Epoch 49/500\n",
      "156/156 - 4s - loss: 0.2538 - accuracy: 0.8931 - val_loss: 0.4899 - val_accuracy: 0.8245 - 4s/epoch - 27ms/step\n",
      "Epoch 50/500\n",
      "156/156 - 4s - loss: 0.2491 - accuracy: 0.8984 - val_loss: 0.4989 - val_accuracy: 0.8264 - 4s/epoch - 25ms/step\n",
      "Epoch 51/500\n",
      "156/156 - 4s - loss: 0.2464 - accuracy: 0.9004 - val_loss: 0.4851 - val_accuracy: 0.8258 - 4s/epoch - 25ms/step\n",
      "Epoch 52/500\n",
      "156/156 - 4s - loss: 0.2455 - accuracy: 0.9002 - val_loss: 0.5008 - val_accuracy: 0.8276 - 4s/epoch - 25ms/step\n",
      "Epoch 53/500\n",
      "156/156 - 4s - loss: 0.2384 - accuracy: 0.9057 - val_loss: 0.4966 - val_accuracy: 0.8289 - 4s/epoch - 27ms/step\n",
      "Epoch 54/500\n",
      "156/156 - 4s - loss: 0.2352 - accuracy: 0.9100 - val_loss: 0.4946 - val_accuracy: 0.8276 - 4s/epoch - 25ms/step\n",
      "Epoch 55/500\n",
      "156/156 - 5s - loss: 0.2329 - accuracy: 0.9124 - val_loss: 0.5041 - val_accuracy: 0.8284 - 5s/epoch - 29ms/step\n",
      "Epoch 56/500\n",
      "156/156 - 4s - loss: 0.2303 - accuracy: 0.9132 - val_loss: 0.5019 - val_accuracy: 0.8288 - 4s/epoch - 28ms/step\n",
      "Epoch 57/500\n",
      "156/156 - 4s - loss: 0.2249 - accuracy: 0.9170 - val_loss: 0.5224 - val_accuracy: 0.8258 - 4s/epoch - 29ms/step\n",
      "Epoch 58/500\n",
      "156/156 - 4s - loss: 0.2225 - accuracy: 0.9203 - val_loss: 0.5118 - val_accuracy: 0.8293 - 4s/epoch - 27ms/step\n",
      "Epoch 59/500\n",
      "156/156 - 5s - loss: 0.2173 - accuracy: 0.9241 - val_loss: 0.5102 - val_accuracy: 0.8286 - 5s/epoch - 34ms/step\n",
      "Epoch 60/500\n",
      "156/156 - 5s - loss: 0.2143 - accuracy: 0.9259 - val_loss: 0.5226 - val_accuracy: 0.8296 - 5s/epoch - 29ms/step\n",
      "Epoch 61/500\n",
      "156/156 - 4s - loss: 0.2115 - accuracy: 0.9269 - val_loss: 0.5290 - val_accuracy: 0.8284 - 4s/epoch - 28ms/step\n",
      "Epoch 62/500\n",
      "156/156 - 4s - loss: 0.2090 - accuracy: 0.9268 - val_loss: 0.5331 - val_accuracy: 0.8289 - 4s/epoch - 26ms/step\n",
      "Epoch 63/500\n",
      "156/156 - 4s - loss: 0.2043 - accuracy: 0.9317 - val_loss: 0.5128 - val_accuracy: 0.8303 - 4s/epoch - 27ms/step\n",
      "Epoch 64/500\n",
      "156/156 - 4s - loss: 0.2026 - accuracy: 0.9343 - val_loss: 0.5162 - val_accuracy: 0.8303 - 4s/epoch - 27ms/step\n",
      "Epoch 65/500\n",
      "156/156 - 4s - loss: 0.1977 - accuracy: 0.9363 - val_loss: 0.5172 - val_accuracy: 0.8315 - 4s/epoch - 26ms/step\n",
      "Epoch 66/500\n",
      "156/156 - 4s - loss: 0.1938 - accuracy: 0.9394 - val_loss: 0.5235 - val_accuracy: 0.8270 - 4s/epoch - 27ms/step\n",
      "Epoch 67/500\n",
      "156/156 - 5s - loss: 0.1916 - accuracy: 0.9412 - val_loss: 0.5215 - val_accuracy: 0.8329 - 5s/epoch - 29ms/step\n",
      "Epoch 68/500\n",
      "156/156 - 4s - loss: 0.1863 - accuracy: 0.9420 - val_loss: 0.5306 - val_accuracy: 0.8346 - 4s/epoch - 27ms/step\n",
      "Epoch 69/500\n",
      "156/156 - 4s - loss: 0.1826 - accuracy: 0.9452 - val_loss: 0.5397 - val_accuracy: 0.8306 - 4s/epoch - 26ms/step\n",
      "Epoch 70/500\n",
      "156/156 - 4s - loss: 0.1789 - accuracy: 0.9464 - val_loss: 0.5451 - val_accuracy: 0.8315 - 4s/epoch - 25ms/step\n",
      "Epoch 71/500\n",
      "156/156 - 4s - loss: 0.1761 - accuracy: 0.9476 - val_loss: 0.5321 - val_accuracy: 0.8329 - 4s/epoch - 26ms/step\n",
      "Epoch 72/500\n",
      "156/156 - 4s - loss: 0.1717 - accuracy: 0.9504 - val_loss: 0.5246 - val_accuracy: 0.8372 - 4s/epoch - 25ms/step\n",
      "Epoch 73/500\n",
      "156/156 - 4s - loss: 0.1656 - accuracy: 0.9538 - val_loss: 0.5526 - val_accuracy: 0.8332 - 4s/epoch - 26ms/step\n",
      "Epoch 74/500\n",
      "156/156 - 4s - loss: 0.1647 - accuracy: 0.9527 - val_loss: 0.5534 - val_accuracy: 0.8329 - 4s/epoch - 28ms/step\n",
      "Epoch 75/500\n",
      "156/156 - 4s - loss: 0.1595 - accuracy: 0.9556 - val_loss: 0.5339 - val_accuracy: 0.8370 - 4s/epoch - 26ms/step\n",
      "Epoch 76/500\n",
      "156/156 - 4s - loss: 0.1559 - accuracy: 0.9560 - val_loss: 0.5384 - val_accuracy: 0.8378 - 4s/epoch - 25ms/step\n",
      "Epoch 77/500\n",
      "156/156 - 4s - loss: 0.1517 - accuracy: 0.9584 - val_loss: 0.5339 - val_accuracy: 0.8392 - 4s/epoch - 25ms/step\n",
      "Epoch 78/500\n",
      "156/156 - 4s - loss: 0.1480 - accuracy: 0.9601 - val_loss: 0.5327 - val_accuracy: 0.8401 - 4s/epoch - 26ms/step\n",
      "Epoch 79/500\n",
      "156/156 - 4s - loss: 0.1452 - accuracy: 0.9609 - val_loss: 0.5459 - val_accuracy: 0.8401 - 4s/epoch - 26ms/step\n",
      "Epoch 80/500\n",
      "156/156 - 4s - loss: 0.1409 - accuracy: 0.9630 - val_loss: 0.5410 - val_accuracy: 0.8397 - 4s/epoch - 26ms/step\n",
      "Epoch 81/500\n",
      "156/156 - 4s - loss: 0.1358 - accuracy: 0.9646 - val_loss: 0.5590 - val_accuracy: 0.8396 - 4s/epoch - 27ms/step\n",
      "Epoch 82/500\n",
      "156/156 - 4s - loss: 0.1343 - accuracy: 0.9638 - val_loss: 0.5470 - val_accuracy: 0.8437 - 4s/epoch - 26ms/step\n",
      "Epoch 83/500\n",
      "156/156 - 4s - loss: 0.1315 - accuracy: 0.9657 - val_loss: 0.5733 - val_accuracy: 0.8377 - 4s/epoch - 25ms/step\n",
      "Epoch 84/500\n",
      "156/156 - 4s - loss: 0.1260 - accuracy: 0.9673 - val_loss: 0.5661 - val_accuracy: 0.8401 - 4s/epoch - 25ms/step\n",
      "Epoch 85/500\n",
      "156/156 - 4s - loss: 0.1234 - accuracy: 0.9680 - val_loss: 0.5671 - val_accuracy: 0.8397 - 4s/epoch - 26ms/step\n",
      "Epoch 86/500\n",
      "156/156 - 4s - loss: 0.1208 - accuracy: 0.9688 - val_loss: 0.5758 - val_accuracy: 0.8402 - 4s/epoch - 26ms/step\n",
      "Epoch 87/500\n",
      "156/156 - 4s - loss: 0.1163 - accuracy: 0.9713 - val_loss: 0.5694 - val_accuracy: 0.8404 - 4s/epoch - 25ms/step\n",
      "Epoch 88/500\n",
      "156/156 - 4s - loss: 0.1149 - accuracy: 0.9703 - val_loss: 0.5745 - val_accuracy: 0.8401 - 4s/epoch - 26ms/step\n",
      "Epoch 89/500\n",
      "156/156 - 4s - loss: 0.1136 - accuracy: 0.9701 - val_loss: 0.5808 - val_accuracy: 0.8414 - 4s/epoch - 26ms/step\n",
      "Epoch 90/500\n",
      "156/156 - 4s - loss: 0.1097 - accuracy: 0.9715 - val_loss: 0.5740 - val_accuracy: 0.8409 - 4s/epoch - 27ms/step\n",
      "Epoch 91/500\n",
      "156/156 - 4s - loss: 0.1074 - accuracy: 0.9726 - val_loss: 0.5614 - val_accuracy: 0.8440 - 4s/epoch - 28ms/step\n",
      "Epoch 92/500\n",
      "156/156 - 4s - loss: 0.1036 - accuracy: 0.9738 - val_loss: 0.5810 - val_accuracy: 0.8406 - 4s/epoch - 25ms/step\n",
      "Epoch 93/500\n",
      "156/156 - 4s - loss: 0.1023 - accuracy: 0.9737 - val_loss: 0.5874 - val_accuracy: 0.8409 - 4s/epoch - 25ms/step\n",
      "Epoch 94/500\n",
      "156/156 - 4s - loss: 0.0987 - accuracy: 0.9749 - val_loss: 0.5962 - val_accuracy: 0.8399 - 4s/epoch - 26ms/step\n",
      "Epoch 95/500\n",
      "156/156 - 4s - loss: 0.0989 - accuracy: 0.9748 - val_loss: 0.6023 - val_accuracy: 0.8394 - 4s/epoch - 26ms/step\n",
      "Epoch 96/500\n",
      "156/156 - 4s - loss: 0.0954 - accuracy: 0.9760 - val_loss: 0.5869 - val_accuracy: 0.8425 - 4s/epoch - 27ms/step\n",
      "Epoch 97/500\n",
      "156/156 - 4s - loss: 0.0922 - accuracy: 0.9766 - val_loss: 0.6156 - val_accuracy: 0.8377 - 4s/epoch - 25ms/step\n",
      "Epoch 98/500\n",
      "156/156 - 4s - loss: 0.0904 - accuracy: 0.9769 - val_loss: 0.6089 - val_accuracy: 0.8394 - 4s/epoch - 25ms/step\n",
      "Epoch 99/500\n",
      "156/156 - 4s - loss: 0.0888 - accuracy: 0.9772 - val_loss: 0.6167 - val_accuracy: 0.8382 - 4s/epoch - 25ms/step\n",
      "Epoch 100/500\n",
      "156/156 - 4s - loss: 0.0861 - accuracy: 0.9778 - val_loss: 0.6335 - val_accuracy: 0.8353 - 4s/epoch - 25ms/step\n",
      "Epoch 101/500\n",
      "156/156 - 4s - loss: 0.0851 - accuracy: 0.9784 - val_loss: 0.6465 - val_accuracy: 0.8358 - 4s/epoch - 25ms/step\n",
      "Epoch 102/500\n",
      "156/156 - 4s - loss: 0.0843 - accuracy: 0.9787 - val_loss: 0.6359 - val_accuracy: 0.8356 - 4s/epoch - 25ms/step\n",
      "Epoch 103/500\n",
      "156/156 - 4s - loss: 0.0835 - accuracy: 0.9776 - val_loss: 0.6439 - val_accuracy: 0.8341 - 4s/epoch - 26ms/step\n",
      "Epoch 104/500\n",
      "156/156 - 4s - loss: 0.0811 - accuracy: 0.9788 - val_loss: 0.6227 - val_accuracy: 0.8394 - 4s/epoch - 25ms/step\n",
      "Epoch 105/500\n",
      "156/156 - 4s - loss: 0.0767 - accuracy: 0.9807 - val_loss: 0.6367 - val_accuracy: 0.8372 - 4s/epoch - 25ms/step\n",
      "Epoch 106/500\n",
      "156/156 - 4s - loss: 0.0757 - accuracy: 0.9814 - val_loss: 0.6418 - val_accuracy: 0.8375 - 4s/epoch - 26ms/step\n",
      "Epoch 107/500\n",
      "156/156 - 4s - loss: 0.0739 - accuracy: 0.9811 - val_loss: 0.6424 - val_accuracy: 0.8385 - 4s/epoch - 25ms/step\n",
      "Epoch 108/500\n",
      "156/156 - 4s - loss: 0.0735 - accuracy: 0.9814 - val_loss: 0.6493 - val_accuracy: 0.8370 - 4s/epoch - 26ms/step\n",
      "Epoch 109/500\n",
      "156/156 - 4s - loss: 0.0726 - accuracy: 0.9816 - val_loss: 0.6577 - val_accuracy: 0.8356 - 4s/epoch - 25ms/step\n",
      "Epoch 110/500\n",
      "156/156 - 4s - loss: 0.0712 - accuracy: 0.9817 - val_loss: 0.6807 - val_accuracy: 0.8363 - 4s/epoch - 25ms/step\n",
      "Epoch 111/500\n",
      "156/156 - 4s - loss: 0.0691 - accuracy: 0.9821 - val_loss: 0.6840 - val_accuracy: 0.8342 - 4s/epoch - 25ms/step\n",
      "Epoch 112/500\n",
      "156/156 - 4s - loss: 0.0685 - accuracy: 0.9829 - val_loss: 0.7055 - val_accuracy: 0.8312 - 4s/epoch - 26ms/step\n",
      "Epoch 113/500\n",
      "156/156 - 4s - loss: 0.0679 - accuracy: 0.9825 - val_loss: 0.6851 - val_accuracy: 0.8324 - 4s/epoch - 25ms/step\n",
      "Epoch 114/500\n",
      "156/156 - 4s - loss: 0.0664 - accuracy: 0.9829 - val_loss: 0.6905 - val_accuracy: 0.8344 - 4s/epoch - 25ms/step\n",
      "Epoch 115/500\n",
      "156/156 - 4s - loss: 0.0657 - accuracy: 0.9833 - val_loss: 0.6806 - val_accuracy: 0.8348 - 4s/epoch - 25ms/step\n",
      "Epoch 116/500\n",
      "156/156 - 4s - loss: 0.0648 - accuracy: 0.9839 - val_loss: 0.6780 - val_accuracy: 0.8360 - 4s/epoch - 26ms/step\n",
      "Epoch 117/500\n",
      "156/156 - 4s - loss: 0.0625 - accuracy: 0.9832 - val_loss: 0.6963 - val_accuracy: 0.8306 - 4s/epoch - 25ms/step\n",
      "Epoch 118/500\n",
      "156/156 - 4s - loss: 0.0625 - accuracy: 0.9833 - val_loss: 0.6851 - val_accuracy: 0.8341 - 4s/epoch - 26ms/step\n",
      "Epoch 119/500\n",
      "156/156 - 5s - loss: 0.0601 - accuracy: 0.9854 - val_loss: 0.6798 - val_accuracy: 0.8353 - 5s/epoch - 29ms/step\n",
      "Epoch 120/500\n",
      "156/156 - 4s - loss: 0.0608 - accuracy: 0.9851 - val_loss: 0.6905 - val_accuracy: 0.8356 - 4s/epoch - 29ms/step\n",
      "Epoch 121/500\n",
      "156/156 - 4s - loss: 0.0577 - accuracy: 0.9847 - val_loss: 0.7347 - val_accuracy: 0.8330 - 4s/epoch - 25ms/step\n",
      "Epoch 122/500\n",
      "156/156 - 4s - loss: 0.0589 - accuracy: 0.9848 - val_loss: 0.7045 - val_accuracy: 0.8337 - 4s/epoch - 26ms/step\n",
      "Epoch 123/500\n",
      "156/156 - 4s - loss: 0.0568 - accuracy: 0.9854 - val_loss: 0.7054 - val_accuracy: 0.8336 - 4s/epoch - 25ms/step\n",
      "Epoch 124/500\n",
      "156/156 - 4s - loss: 0.0559 - accuracy: 0.9856 - val_loss: 0.7215 - val_accuracy: 0.8318 - 4s/epoch - 26ms/step\n",
      "Epoch 125/500\n",
      "156/156 - 4s - loss: 0.0554 - accuracy: 0.9863 - val_loss: 0.7295 - val_accuracy: 0.8312 - 4s/epoch - 25ms/step\n",
      "Epoch 126/500\n",
      "156/156 - 4s - loss: 0.0544 - accuracy: 0.9866 - val_loss: 0.7260 - val_accuracy: 0.8327 - 4s/epoch - 27ms/step\n"
     ]
    }
   ],
   "source": [
    "optimizer = Adam(learning_rate=LR, weight_decay=DECAY)\n",
    "model.compile(\n",
    "    loss='sparse_categorical_crossentropy',\n",
    "    optimizer=optimizer,\n",
    "    metrics=['accuracy'],\n",
    ")\n",
    "\n",
    "earlystopping = EarlyStopping(monitor='val_accuracy', patience=35, min_delta=0.0001, restore_best_weights=True)\n",
    "\n",
    "history = model.fit(\n",
    "    x_train_padded, y_train,\n",
    "    epochs=NUM_EPOCH,\n",
    "    # validation_split=0.1,\n",
    "    validation_data=(x_val_padded, y_val),\n",
    "    callbacks=[earlystopping],\n",
    "    batch_size=BATCH_SIZE,\n",
    "    verbose=2)"
   ]
  },
  {
   "cell_type": "code",
   "execution_count": 73,
   "metadata": {},
   "outputs": [
    {
     "name": "stdout",
     "output_type": "stream",
     "text": [
      "608/608 [==============================] - 2s 3ms/step - loss: 0.5626 - accuracy: 0.8406\n",
      "Test set\n",
      "  Loss: 0.563\n",
      "  Accuracy: 0.841\n"
     ]
    }
   ],
   "source": [
    "accr = model.evaluate(x_test_padded,y_test)\n",
    "print('Test set\\n  Loss: {:0.3f}\\n  Accuracy: {:0.3f}'.format(accr[0],accr[1]))"
   ]
  },
  {
   "cell_type": "code",
   "execution_count": 74,
   "metadata": {},
   "outputs": [
    {
     "data": {
      "image/png": "[encoded data removed]",
      "text/plain": [
       "<Figure size 400x300 with 1 Axes>"
      ]
     },
     "metadata": {},
     "output_type": "display_data"
    },
    {
     "data": {
      "image/png": "[encoded data removed]",
      "text/plain": [
       "<Figure size 400x300 with 1 Axes>"
      ]
     },
     "metadata": {},
     "output_type": "display_data"
    }
   ],
   "source": [
    "plt.figure(figsize=(4, 3))\n",
    "plt.title('Loss')\n",
    "plt.plot(history.history['loss'], label='train')\n",
    "plt.plot(history.history['val_loss'], label='test')\n",
    "plt.legend()\n",
    "plt.show()\n",
    "plt.figure(figsize=(4, 3))\n",
    "plt.title('Accuracy')\n",
    "plt.plot(history.history['accuracy'], label='train')\n",
    "plt.plot(history.history['val_accuracy'], label='test')\n",
    "plt.legend()\n",
    "plt.show()"
   ]
  },
  {
   "cell_type": "code",
   "execution_count": 18,
   "metadata": {},
   "outputs": [
    {
     "name": "stdout",
     "output_type": "stream",
     "text": [
      "1/1 [==============================] - 1s 659ms/step\n",
      "Government makes GST compulsory\n",
      "government makes gst compulsory\n",
      "[ 227 1840 9282    1    0    0    0    0    0    0    0    0    0    0\n",
      "    0    0    0    0    0    0    0    0    0    0    0    0    0    0\n",
      "    0    0    0    0    0    0    0    0    0    0    0    0    0    0\n",
      "    0    0    0    0    0]\n",
      "[0.24790019 0.26048088 0.24289383 0.2487251 ]\n",
      "Possible Non-Crime\n",
      "Aviral commited theft by stealing my pen\n",
      "aviral commited theft stealing pen\n",
      "[   1    1  251  598 9247    0    0    0    0    0    0    0    0    0\n",
      "    0    0    0    0    0    0    0    0    0    0    0    0    0    0\n",
      "    0    0    0    0    0    0    0    0    0    0    0    0    0    0\n",
      "    0    0    0    0    0]\n",
      "[0.24911541 0.25709945 0.24445519 0.24933001]\n",
      "Possible Non-Crime\n",
      "Kartik stabbed his roommate out of spite\n",
      "kartik stabbed roommate spite\n",
      "[7728   45 4420 9624    0    0    0    0    0    0    0    0    0    0\n",
      "    0    0    0    0    0    0    0    0    0    0    0    0    0    0\n",
      "    0    0    0    0    0    0    0    0    0    0    0    0    0    0\n",
      "    0    0    0    0    0]\n",
      "[0.2514627  0.2523047  0.24551338 0.25071922]\n",
      "Possible Non-Crime\n",
      "Kidnapping caught on camera, attempt made to abduct child\n",
      "kidnapping caught camera attempt made abduct child\n",
      "[ 112  303  523  440  371 5818  234    0    0    0    0    0    0    0\n",
      "    0    0    0    0    0    0    0    0    0    0    0    0    0    0\n",
      "    0    0    0    0    0    0    0    0    0    0    0    0    0    0\n",
      "    0    0    0    0    0]\n",
      "[0.24954675 0.25476065 0.24660712 0.24908553]\n",
      "Possible Non-Crime\n"
     ]
    }
   ],
   "source": [
    "new_complaints = [\n",
    "    \"Government makes GST compulsory\", \n",
    "    \"Aviral commited theft by stealing my pen\",\n",
    "    \"Kartik stabbed his roommate out of spite\",\n",
    "    \"Kidnapping caught on camera, attempt made to abduct child\"\n",
    "    ]\n",
    "\n",
    "pre_complaints = Preprocessor.preprocess_data_x(new_complaints)\n",
    "padded = Preprocessor.tokenise(tokenizer, pre_complaints)\n",
    "pred_list = model.predict(padded)\n",
    "\n",
    "for i in range(len(pred_list)):\n",
    "    print(new_complaints[i])\n",
    "    print(pre_complaints[i])\n",
    "    print(padded[i])\n",
    "    max_con = np.max(pred_list[i])\n",
    "    print(pred_list[i])\n",
    "    if max_con >= MIN_CONFIDENCE:\n",
    "        print(f'{label_ids[np.argmax(pred_list[i])]}: {max_con*100:.2f} % confidence')\n",
    "    else:\n",
    "        print('Possible Non-Crime')"
   ]
  },
  {
   "cell_type": "code",
   "execution_count": 76,
   "metadata": {},
   "outputs": [],
   "source": [
    "# dir_path = f\"./Weights/{accr[0]*100:.2f}_{accr[1]*100:.2f}\"\n",
    "\n",
    "# if not os.path.isdir(dir_path):\n",
    "#     os.makedirs(dir_path)\n",
    "\n",
    "# with open(dir_path+'/tokenizer.pickle', 'wb') as handle:\n",
    "#     pickle.dump(tokenizer, handle, protocol=pickle.HIGHEST_PROTOCOL)\n",
    "\n",
    "# model.save(dir_path+'/model')\n",
    "# # with open('tokenizer.pickle', 'rb') as handle:\n",
    "# #     tokenizer = pickle.load(handle)"
   ]
  }
 ],
 "metadata": {
  "kernelspec": {
   "display_name": "Python 3.10.7 64-bit",
   "language": "python",
   "name": "python3"
  },
  "language_info": {
   "codemirror_mode": {
    "name": "ipython",
    "version": 3
   },
   "file_extension": ".py",
   "mimetype": "text/x-python",
   "name": "python",
   "nbconvert_exporter": "python",
   "pygments_lexer": "ipython3",
   "version": "3.10.7 (tags/v3.10.7:6cc6b13, Sep  5 2022, 14:08:36) [MSC v.1933 64 bit (AMD64)]"
  },
  "orig_nbformat": 4,
  "vscode": {
   "interpreter": {
    "hash": "b2194765557e7725c290a7683d2eb603dfddc015f92c1157854921e6d1191a2e"
   }
  }
 },
 "nbformat": 4,
 "nbformat_minor": 2
}
